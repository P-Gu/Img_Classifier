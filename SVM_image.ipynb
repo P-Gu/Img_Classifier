{
 "cells": [
  {
   "cell_type": "code",
   "execution_count": 29,
   "id": "4efea260-c45f-4881-bfc6-b7854fcd1922",
   "metadata": {},
   "outputs": [],
   "source": [
    "import pandas as pd\n",
    "import os\n",
    "from skimage.transform import resize\n",
    "from skimage.io import imread, imshow\n",
    "import numpy as np\n",
    "import matplotlib.pyplot as plt\n",
    "\n",
    "from sklearn import svm\n",
    "from sklearn.model_selection import GridSearchCV\n",
    "\n",
    "from sklearn.model_selection import train_test_split\n",
    "from sklearn.metrics import accuracy_score\n",
    "\n",
    "import xml.etree.ElementTree as ET"
   ]
  },
  {
   "cell_type": "code",
   "execution_count": 49,
   "id": "0ba4f3cc-7cc6-40b4-99fa-0d3c32f3f6f7",
   "metadata": {},
   "outputs": [
    {
     "name": "stdout",
     "output_type": "stream",
     "text": [
      "Chihuahua\n",
      "Japanese_spaniel\n",
      "Maltese_dog\n",
      "Chihuahua\n",
      "loaded category:Chihuahua successfully\n",
      "Japanese_spaniel\n",
      "loaded category:Japanese_spaniel successfully\n",
      "Maltese_dog\n",
      "loaded category:Maltese_dog successfully\n",
      "[[0.24933063 0.1905071  0.1787424  ... 0.01027991 0.02237142 0.01894658]\n",
      " [0.82930736 0.17205229 0.34640505 ... 0.52018231 0.62311041 0.4026658 ]\n",
      " [0.55686275 0.54509804 0.54901961 ... 0.67840078 0.6889651  0.53602392]\n",
      " ...\n",
      " [0.31753926 0.30475817 0.27338562 ... 0.15334963 0.14901961 0.12941176]\n",
      " [0.42766013 0.44334641 0.44726797 ... 0.67705882 0.55917647 0.42420889]\n",
      " [0.57516209 0.53202484 0.51633856 ... 0.46044706 0.42515294 0.38985882]]\n",
      "[0 0 0 0 0 0 0 0 0 0 0 0 0 0 0 0 0 0 0 0 0 0 0 0 0 0 0 0 0 0 0 0 0 0 0 0 0\n",
      " 0 0 0 0 0 0 0 0 0 0 0 0 0 0 0 0 0 0 0 0 0 0 0 0 0 0 0 0 0 0 0 0 0 0 0 0 0\n",
      " 0 0 0 0 0 0 0 0 0 0 0 0 0 0 0 0 0 0 0 0 0 0 0 0 0 0 0 0 0 0 0 0 0 0 0 0 0\n",
      " 0 0 0 0 0 0 0 0 0 0 0 0 0 0 0 0 0 0 0 0 0 0 0 0 0 0 0 0 0 0 0 0 0 0 0 0 0\n",
      " 0 0 0 0 1 1 1 1 1 1 1 1 1 1 1 1 1 1 1 1 1 1 1 1 1 1 1 1 1 1 1 1 1 1 1 1 1\n",
      " 1 1 1 1 1 1 1 1 1 1 1 1 1 1 1 1 1 1 1 1 1 1 1 1 1 1 1 1 1 1 1 1 1 1 1 1 1\n",
      " 1 1 1 1 1 1 1 1 1 1 1 1 1 1 1 1 1 1 1 1 1 1 1 1 1 1 1 1 1 1 1 1 1 1 1 1 1\n",
      " 1 1 1 1 1 1 1 1 1 1 1 1 1 1 1 1 1 1 1 1 1 1 1 1 1 1 1 1 1 1 1 1 1 1 1 1 1\n",
      " 1 1 1 1 1 1 1 1 1 1 1 1 1 1 1 1 1 1 1 1 1 1 1 1 1 1 1 1 1 1 1 1 1 1 1 1 1\n",
      " 1 1 1 1 2 2 2 2 2 2 2 2 2 2 2 2 2 2 2 2 2 2 2 2 2 2 2 2 2 2 2 2 2 2 2 2 2\n",
      " 2 2 2 2 2 2 2 2 2 2 2 2 2 2 2 2 2 2 2 2 2 2 2 2 2 2 2 2 2 2 2 2 2 2 2 2 2\n",
      " 2 2 2 2 2 2 2 2 2 2 2 2 2 2 2 2 2 2 2 2 2 2 2 2 2 2 2 2 2 2 2 2 2 2 2 2 2\n",
      " 2 2 2 2 2 2 2 2 2 2 2 2 2 2 2 2 2 2 2 2 2 2 2 2 2 2 2 2 2 2 2 2 2 2 2 2 2\n",
      " 2 2 2 2 2 2 2 2 2 2 2 2 2 2 2 2 2 2 2 2 2 2 2 2 2 2 2 2 2 2 2 2 2 2 2 2 2\n",
      " 2 2 2 2 2 2 2 2 2 2 2 2 2 2 2 2 2 2 2 2 2 2 2 2 2 2 2 2 2 2 2 2 2 2 2 2 2\n",
      " 2 2 2 2 2 2 2 2 2 2 2 2 2 2 2 2 2 2 2 2 2 2 2 2 2 2 2 2 2 2 2 2 2 2]\n"
     ]
    }
   ],
   "source": [
    "img_dir = \"images/Images\"\n",
    "ant_dir = \"annotations/Annotation\"\n",
    "X=[] #input array\n",
    "Y=[] #output array\n",
    "\n",
    "bnd_dict = {}\n",
    "\n",
    "label_count = 0\n",
    "for sub_dir in os.listdir(ant_dir):\n",
    "    label_count += 1\n",
    "    label = sub_dir.split(\"-\")[1]\n",
    "    print(label)\n",
    "    path=os.path.join(ant_dir,sub_dir)\n",
    "    for ant in os.listdir(path):\n",
    "        if ant[0] != 'n': continue\n",
    "        tree = ET.parse(os.path.join(path,ant))\n",
    "        root = tree.getroot()\n",
    "        bndbox = root.find(\"object\").find(\"bndbox\")\n",
    "        xmin = int(bndbox.findtext(\"xmin\"))\n",
    "        ymin = int(bndbox.findtext(\"ymin\"))\n",
    "        xmax = int(bndbox.findtext(\"xmax\"))\n",
    "        ymax = int(bndbox.findtext(\"ymax\"))\n",
    "        bnd_dict[ant] = [xmin, ymin, xmax, ymax]\n",
    "    if label_count >= 3: break\n",
    "#print(bnd_dict)\n",
    "        \n",
    "        \n",
    "        \n",
    "label_count = 0\n",
    "for sub_dir in os.listdir(img_dir):\n",
    "    label_count += 1\n",
    "    label = sub_dir.split(\"-\")[1]\n",
    "    print(label)\n",
    "    path=os.path.join(img_dir,sub_dir)\n",
    "    for img in os.listdir(path):\n",
    "        #print(img)\n",
    "        if img[0] != 'n': continue\n",
    "        img_array=imread(os.path.join(path,img))\n",
    "        #imshow(img_array)\n",
    "        #plt.show()\n",
    "        bnd = bnd_dict[img.split(\".\")[0]]\n",
    "        img_bnd = img_array[bnd[1]:bnd[3],bnd[0]:bnd[2]]\n",
    "        #imshow(img_bnd)\n",
    "        #plt.show()\n",
    "        \n",
    "        img_resized=resize(img_bnd,(150,150,3))\n",
    "        \n",
    "        X.append(img_resized.flatten())\n",
    "        Y.append(label_count-1)\n",
    "    print(f'loaded category:{label} successfully')\n",
    "    if label_count >= 3: break\n",
    "\n",
    "X=np.array(X)\n",
    "Y=np.array(Y)\n",
    "print(X)\n",
    "print(Y)"
   ]
  },
  {
   "cell_type": "code",
   "execution_count": 50,
   "id": "c9173061-c2ce-475d-81d1-17217b22434b",
   "metadata": {},
   "outputs": [],
   "source": [
    "param_grid={'C':[0.1,1,10,100],'gamma':[0.0001,0.001,0.1,1],'kernel':['rbf','poly']}\n",
    "svc=svm.SVC(probability=True)\n",
    "model=GridSearchCV(svc,param_grid)"
   ]
  },
  {
   "cell_type": "code",
   "execution_count": 51,
   "id": "cbe40174-5722-4013-be2f-251604119c3c",
   "metadata": {},
   "outputs": [
    {
     "name": "stdout",
     "output_type": "stream",
     "text": [
      "Splitted Successfully\n",
      "The Model is trained well with the given images\n"
     ]
    }
   ],
   "source": [
    "x_train,x_test,y_train,y_test=train_test_split(X,Y,test_size=0.20,random_state=77,stratify=Y)\n",
    "print('Splitted Successfully')\n",
    "model.fit(x_train,y_train)\n",
    "print('The Model is trained well with the given images')"
   ]
  },
  {
   "cell_type": "code",
   "execution_count": 52,
   "id": "82409c03-b811-48ac-9fe4-829a8ed55bb6",
   "metadata": {},
   "outputs": [
    {
     "name": "stdout",
     "output_type": "stream",
     "text": [
      "The predicted Data is :\n",
      "[2 1 2 0 0 0 2 1 2 2 0 0 0 2 0 2 1 2 2 2 2 2 0 2 2 0 2 2 1 2 1 1 2 0 2 1 0\n",
      " 1 1 2 1 0 2 2 2 2 1 1 2 2 1 1 1 1 1 2 2 0 2 1 0 1 0 0 0 2 2 0 1 2 1 1 2 1\n",
      " 1 0 2 2 2 2 0 1 2 2 2 2 1 1 1 2 2 1 2 2 2 2 2 2 1 0 0 2 0 1 2 2 2 2 0 2 0\n",
      " 0 0 0 2 0 1 2]\n",
      "The actual data is:\n",
      "[0 2 2 1 0 0 2 1 1 2 0 0 0 2 1 2 2 2 2 2 2 2 0 0 1 0 2 2 1 2 1 0 2 1 2 1 0\n",
      " 1 0 2 1 1 2 2 2 1 0 1 2 2 1 1 1 1 1 2 2 2 1 1 1 1 2 0 0 2 2 0 1 2 1 1 2 2\n",
      " 1 0 2 2 2 2 0 0 2 2 2 1 1 1 1 2 1 1 2 2 2 2 0 0 0 0 0 2 2 1 0 0 2 0 1 2 2\n",
      " 0 0 1 1 0 2 2]\n",
      "The model is 71.1864406779661% accurate\n"
     ]
    }
   ],
   "source": [
    "y_pred=model.predict(x_test)\n",
    "print(\"The predicted Data is :\")\n",
    "print(y_pred)\n",
    "print(\"The actual data is:\")\n",
    "print(np.array(y_test))\n",
    "print(f\"The model is {accuracy_score(y_pred,y_test)*100}% accurate\")"
   ]
  },
  {
   "cell_type": "code",
   "execution_count": null,
   "id": "771170c8-a71b-4e45-a9b0-c17272bf987c",
   "metadata": {},
   "outputs": [],
   "source": []
  }
 ],
 "metadata": {
  "kernelspec": {
   "display_name": "Python 3 (ipykernel)",
   "language": "python",
   "name": "python3"
  },
  "language_info": {
   "codemirror_mode": {
    "name": "ipython",
    "version": 3
   },
   "file_extension": ".py",
   "mimetype": "text/x-python",
   "name": "python",
   "nbconvert_exporter": "python",
   "pygments_lexer": "ipython3",
   "version": "3.9.7"
  }
 },
 "nbformat": 4,
 "nbformat_minor": 5
}
