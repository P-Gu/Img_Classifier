{
 "cells": [
  {
   "cell_type": "code",
   "execution_count": 16,
   "id": "fcb78206",
   "metadata": {},
   "outputs": [],
   "source": [
    "import pandas as pd\n",
    "import os\n",
    "from skimage.transform import resize\n",
    "from skimage.io import imread, imshow\n",
    "import numpy as np\n",
    "import matplotlib.pyplot as plt\n",
    "import seaborn as sns\n",
    "\n",
    "from sklearn.preprocessing import StandardScaler\n",
    "from sklearn import svm\n",
    "from sklearn.model_selection import GridSearchCV\n",
    "from sklearn.model_selection import cross_val_score\n",
    "\n",
    "from sklearn.model_selection import train_test_split\n",
    "from sklearn.metrics import accuracy_score\n",
    "\n",
    "import xml.etree.ElementTree as ET"
   ]
  },
  {
   "cell_type": "code",
   "execution_count": 2,
   "id": "d9b9d9f0",
   "metadata": {},
   "outputs": [
    {
     "name": "stdout",
     "output_type": "stream",
     "text": [
      "Chihuahua\n",
      "Japanese_spaniel\n",
      "Maltese_dog\n",
      "Pekinese\n",
      "Shih\n",
      "Blenheim_spaniel\n",
      "papillon\n",
      "toy_terrier\n",
      "Rhodesian_ridgeback\n",
      "Afghan_hound\n",
      "basset\n",
      "beagle\n",
      "bloodhound\n",
      "bluetick\n",
      "black\n",
      "Walker_hound\n",
      "English_foxhound\n",
      "redbone\n",
      "borzoi\n",
      "Irish_wolfhound\n"
     ]
    }
   ],
   "source": [
    "img_dir = \"C:/Github/Img_Classifier/images/Images\"\n",
    "ant_dir = \"C:/Github/Img_Classifier/annotations/Annotation\"\n",
    "X = [] #input array\n",
    "Y = [] #output array\n",
    "\n",
    "bnd_dict = {}\n",
    "\n",
    "label_count = 0\n",
    "for sub_dir in os.listdir(ant_dir):\n",
    "    label_count += 1\n",
    "    label = sub_dir.split(\"-\")[1]\n",
    "    print(label)\n",
    "    path=os.path.join(ant_dir,sub_dir)\n",
    "    for ant in os.listdir(path):\n",
    "        if ant[0] != 'n': continue\n",
    "        tree = ET.parse(os.path.join(path,ant))\n",
    "        root = tree.getroot()\n",
    "        bndbox = root.find(\"object\").find(\"bndbox\")\n",
    "        xmin = int(bndbox.findtext(\"xmin\"))\n",
    "        ymin = int(bndbox.findtext(\"ymin\"))\n",
    "        xmax = int(bndbox.findtext(\"xmax\"))\n",
    "        ymax = int(bndbox.findtext(\"ymax\"))\n",
    "        bnd_dict[ant] = [xmin, ymin, xmax, ymax]\n",
    "    if label_count >= 20: break\n",
    "#print(bnd_dict)"
   ]
  },
  {
   "cell_type": "code",
   "execution_count": 3,
   "id": "c47af4ef",
   "metadata": {},
   "outputs": [
    {
     "name": "stdout",
     "output_type": "stream",
     "text": [
      "Chihuahua\n",
      "loaded category:Chihuahua successfully\n",
      "Japanese_spaniel\n",
      "loaded category:Japanese_spaniel successfully\n",
      "Maltese_dog\n",
      "loaded category:Maltese_dog successfully\n",
      "Pekinese\n",
      "loaded category:Pekinese successfully\n",
      "Shih\n",
      "loaded category:Shih successfully\n",
      "Blenheim_spaniel\n",
      "loaded category:Blenheim_spaniel successfully\n",
      "papillon\n",
      "loaded category:papillon successfully\n",
      "toy_terrier\n",
      "loaded category:toy_terrier successfully\n",
      "Rhodesian_ridgeback\n",
      "loaded category:Rhodesian_ridgeback successfully\n",
      "Afghan_hound\n",
      "loaded category:Afghan_hound successfully\n",
      "basset\n",
      "loaded category:basset successfully\n",
      "beagle\n",
      "loaded category:beagle successfully\n",
      "bloodhound\n",
      "loaded category:bloodhound successfully\n",
      "bluetick\n",
      "loaded category:bluetick successfully\n",
      "black\n",
      "loaded category:black successfully\n",
      "Walker_hound\n",
      "loaded category:Walker_hound successfully\n",
      "English_foxhound\n",
      "loaded category:English_foxhound successfully\n",
      "redbone\n",
      "loaded category:redbone successfully\n",
      "borzoi\n",
      "loaded category:borzoi successfully\n",
      "Irish_wolfhound\n",
      "loaded category:Irish_wolfhound successfully\n",
      "[[0.24933063 0.1905071  0.1787424  ... 0.01027991 0.02237142 0.01894658]\n",
      " [0.82930736 0.17205229 0.34640505 ... 0.52018231 0.62311041 0.4026658 ]\n",
      " [0.55686275 0.54509804 0.54901961 ... 0.67840078 0.6889651  0.53602392]\n",
      " ...\n",
      " [0.03943791 0.04275817 0.09643163 ... 0.35799974 0.2874115  0.19329386]\n",
      " [0.47803765 0.53352784 0.60168471 ... 0.45719425 0.57484131 0.72386092]\n",
      " [0.99215686 0.99215686 0.99215686 ... 0.51559843 0.49804235 0.49537569]]\n",
      "[ 0  0  0 ... 19 19 19]\n"
     ]
    }
   ],
   "source": [
    "label_count = 0\n",
    "for sub_dir in os.listdir(img_dir):\n",
    "    label_count += 1\n",
    "    label = sub_dir.split(\"-\")[1]\n",
    "    print(label)\n",
    "    path=os.path.join(img_dir,sub_dir)\n",
    "    for img in os.listdir(path):\n",
    "        #print(img)\n",
    "        if img[0] != 'n': continue\n",
    "        img_array=imread(os.path.join(path,img))\n",
    "        #imshow(img_array)\n",
    "        #plt.show()\n",
    "        bnd = bnd_dict[img.split(\".\")[0]]\n",
    "        img_bnd = img_array[bnd[1]:bnd[3],bnd[0]:bnd[2]]\n",
    "        #imshow(img_bnd)\n",
    "        #plt.show()\n",
    "        \n",
    "        img_resized=resize(img_bnd,(150,150,3))\n",
    "        \n",
    "        X.append(img_resized.flatten())\n",
    "        Y.append(label_count-1)\n",
    "    print(f'loaded category:{label} successfully')\n",
    "    if label_count >= 20: break\n",
    "\n",
    "X=np.array(X)\n",
    "Y=np.array(Y)\n",
    "print(X)\n",
    "print(Y)"
   ]
  },
  {
   "cell_type": "code",
   "execution_count": 4,
   "id": "aa46dd35",
   "metadata": {},
   "outputs": [
    {
     "data": {
      "text/plain": [
       "StandardScaler()"
      ]
     },
     "execution_count": 4,
     "metadata": {},
     "output_type": "execute_result"
    }
   ],
   "source": [
    "scaler = StandardScaler()\n",
    "scaler.fit(X)"
   ]
  },
  {
   "cell_type": "code",
   "execution_count": 5,
   "id": "19fad605",
   "metadata": {},
   "outputs": [
    {
     "name": "stdout",
     "output_type": "stream",
     "text": [
      "[[-0.68289881 -0.86076943 -0.67577965 ... -1.94180837 -1.87301137\n",
      "  -1.52855905]\n",
      " [ 1.55679449 -0.93230111 -0.03687528 ...  0.20312716  0.74613667\n",
      "   0.07820526]\n",
      " [ 0.50469644  0.51364074  0.73521865 ...  0.86868283  1.03325498\n",
      "   0.63662159]\n",
      " ...\n",
      " [-1.49344051 -1.43345084 -0.98943747 ... -0.47910372 -0.71746923\n",
      "  -0.79850705]\n",
      " [ 0.20029795  0.46879415  0.93590712 ... -0.06183596  0.53568931\n",
      "   1.42315968]\n",
      " [ 2.1856696   2.24646053  2.42386136 ...  0.1838448   0.20085533\n",
      "   0.46641345]]\n"
     ]
    }
   ],
   "source": [
    "print(scaler.transform(X))"
   ]
  },
  {
   "cell_type": "markdown",
   "id": "d21081e3",
   "metadata": {},
   "source": [
    "# Training\n",
    "\n",
    "It was observed that we rbf kernel, all the samples were predicted the class with maximum samples in the training set. \n",
    "\n",
    "While in case of polynomial kernel, we observed high training accuracy. However, the model did not tend to point \n",
    "towards a single prediction.\n",
    "\n",
    "Training time: 1 hr 04 minutes. "
   ]
  },
  {
   "cell_type": "code",
   "execution_count": 6,
   "id": "ddaa0d50",
   "metadata": {},
   "outputs": [],
   "source": [
    "param_grid={'C':[0.1],'gamma':[0.1],'kernel':['poly']}\n",
    "svc=svm.SVC(probability=True)\n",
    "model=GridSearchCV(svc,param_grid)"
   ]
  },
  {
   "cell_type": "code",
   "execution_count": 7,
   "id": "8f28ee5b",
   "metadata": {},
   "outputs": [
    {
     "name": "stdout",
     "output_type": "stream",
     "text": [
      "Splitted Successfully\n"
     ]
    }
   ],
   "source": [
    "x_train,x_test,y_train,y_test=train_test_split(X,Y,test_size=0.20,random_state=77,stratify=Y)\n",
    "print('Splitted Successfully')"
   ]
  },
  {
   "cell_type": "code",
   "execution_count": 8,
   "id": "0df2079f",
   "metadata": {},
   "outputs": [
    {
     "data": {
      "text/plain": [
       "array([ 3, 18,  8, ..., 11,  4, 14])"
      ]
     },
     "execution_count": 8,
     "metadata": {},
     "output_type": "execute_result"
    }
   ],
   "source": [
    "y_train"
   ]
  },
  {
   "cell_type": "code",
   "execution_count": 9,
   "id": "084e20ad",
   "metadata": {},
   "outputs": [
    {
     "name": "stdout",
     "output_type": "stream",
     "text": [
      "The Model is trained well with the given images\n"
     ]
    }
   ],
   "source": [
    "model.fit(x_train,y_train)\n",
    "print('The Model is trained well with the given images')"
   ]
  },
  {
   "cell_type": "code",
   "execution_count": 10,
   "id": "2ec9e934",
   "metadata": {},
   "outputs": [
    {
     "data": {
      "text/plain": [
       "0.07015130674002751"
      ]
     },
     "execution_count": 10,
     "metadata": {},
     "output_type": "execute_result"
    }
   ],
   "source": [
    "from sklearn.dummy import DummyClassifier\n",
    "dummy_classifier = DummyClassifier(strategy=\"most_frequent\")\n",
    "dummy_classifier.fit(x_train,y_train)\n",
    "pred_dum= dummy_classifier.predict(x_test)\n",
    "accuracy_score(y_test, pred_dum)"
   ]
  },
  {
   "cell_type": "markdown",
   "id": "9df1cbfa",
   "metadata": {},
   "source": [
    "# Testing"
   ]
  },
  {
   "cell_type": "code",
   "execution_count": 11,
   "id": "4c5fc0f3",
   "metadata": {},
   "outputs": [
    {
     "name": "stdout",
     "output_type": "stream",
     "text": [
      "The predicted Data is :\n",
      "[ 2  4  4 14  9  6  3 15  9 11 19  0  6  1  2 11  5 17 17  4  5  0  6  2\n",
      "  0 11 17 19  2 11  1  9 14 10  8 11 17  1  2  8 19  8 17  0 11 11  4 19\n",
      " 18  7 19 14  6  4 16  2 15 15  8  6  2 19 19 17  4  3 19 19  6 10 10  4\n",
      "  1  6  1 12  0  4 11 19 19  3 19 11 16  6 14  1 19  0  4  2  8  6 17  8\n",
      "  8 17 16 16  1  0  6  9  4 12  1  2  3  9  9  2  6 19  8 15  3  0 15 16\n",
      " 17  6  2 16  9  2  6 19 19  1  2  1 17  5  4 16  4  3  7 17 11  9  6  8\n",
      "  4  7  3  2  8 18  9  8  8 19 14  2  3 13  6  1  7  0 19  3  5 15  9 17\n",
      " 12 17  8  3  7  1 19 10  7 14 10 19  3  8  5 12  9  1  9 12 12 11 18 11\n",
      "  8 11  2  4 16 14  7  1  4 14 12 17 18  1 19  2  7  1 11 11 14 11  6 16\n",
      " 16  1 18  9  9  1  2  2  2  2 11  2  2  2  4  9  0  8 17  1  2  8  8 17\n",
      "  8 16  1 13  7  4  6  1  3  1  9 11  8  5 19 12 11 17 19  1  8  4 11  5\n",
      "  8 11  5  2  9 14  2  7  7  2  6 11  4 13  4 19 19  0  8  2 19 11  6  8\n",
      "  5  4 17 14  2  2  1  6  2  0 16  3 11  9  5  5  6 16  2 19 17 12  2  2\n",
      "  3  9 10  4 18  1  2 18  8  2  7  8 18  9  3  4  6 12 19  8  1  6  5  3\n",
      " 12  4 18  3  2  1  8 16 19  3  9  3  4  4 11 14  2  2 13 11 13 17  5  5\n",
      " 12  4  2  5  9  8 17 14  4 19 17 14  2  6 19  2  5 17  4 19  9 19  8  9\n",
      "  1  2 11  9 19 10 17 15  6  8  6 11  2 14 11  1  9  3 19  9  3  4 19  4\n",
      "  2  2  5 16  1  9 16  4  6 14  3 19  7 16  6  2 11  2  2 14 11  4 18  4\n",
      " 16  4 12  4 11  4 17 19 11 12 16 15 15 19  4 14 17  6 11  1 19  4  8 13\n",
      " 16  8  4  3 16  4 11  0  4 14  8  6  4  4 12 12 14 13  2  6 13 19  2  2\n",
      "  6 10 12  4  9  9  5 11 12  9 19  1  0  9 10 17  4  3 14  3  1 16 19  6\n",
      "  7 10 14  3 11  4  1  2  6  5 17  3  3 14  6  5  9 14  8  2  1 18  9  1\n",
      " 14 16  2  5  7  1 14  6  5 13  6 16 16 11  4  4  1 14 11 16 18  5 17  2\n",
      " 11  7  2  7  8  6  8  9  7  4 15  1 19  6  9 12 18  2 14 15  1  2 17 12\n",
      "  4 10  2  9 16  2  1  0  1  2  5  5 12  6 19 15 19 16 10  4  4  2  2  8\n",
      "  3  7 14  8  3 11  7  9 19  2 13  6 13 10  5 19 15  6  5  6 15 19  3 17\n",
      " 12  1  2  6 13  6  2  6 17  2 17  7 14 14  5  9 13  2  1 12  2  8  6 10\n",
      " 18  3 11  1  7  8  2  2  2  2  8 13 19  3  1 11 12  0  2  3  2  2 17  7\n",
      " 12 19 17 11  6 11 13  4 11  9  9 16  2  1  2  2 16  4  6  7  1  5  7  3\n",
      "  3 16  6 19  1  6  7  8  9 15  4  6 16 19  4  4  5  2 11  1  2  0  8 11\n",
      "  2 14  8  2  2  4 16]\n",
      "The actual data is:\n",
      "[18 17  4 14 19  6  7 11 13  4 15  0  1  4 19  7  5 17  1  7 11  0  6  3\n",
      "  7 17 17 12  9  8  1 18 14 11 17  7  2  5 18 19  5 17 12 19 11 10 19  2\n",
      "  7  1 19 14  6 10  1  9 18 15  9  7 10 19  4  0 10 13 12 19 15 14 10 16\n",
      " 13 16  1 17  0 15  4  6 11 11 19 12 16  9  7  1 19 10 13 19 12  6  3  8\n",
      "  8 12 14 16  1  8  6  9  7 17  1  2 18  9 14  0 16 11  8 13  0  6 16 16\n",
      " 17  9  5 18 13 19  6  9 19 15 11 16  8 19  2 13  5  8 17 10 10  9 14 10\n",
      "  2  4 17 13 12  4  3  0  3 11 14  2  3 10  0  3 15  6 18  7 15 15 14 17\n",
      " 17  8 16  9  7  6 19  2  7  0 11  1 17 11  1  2  0  6  8  8  5 11  6 11\n",
      " 17 10 18  2 15 14 13 11 19 13 17  8  5  2  0  4 15 18 19 11 14  4  9 15\n",
      "  6  6 11  9  9  1  0  2 18  4  7  2 16  4  2  9 15  4 12  2  2  2  9 15\n",
      "  8 15  6 13 19  2  1 19  3 18  9 11 17  4 14 12  7 12  5 19  7  3 12  5\n",
      " 12 12  9 18  1 17  4  4  7  5  4 11 18 13  4 14  6 15  4  1  4  1 15 10\n",
      " 18  7 12 14  3 18  1 17  0 16 16  8  8 16  5  5 14 11  3 12  8  1 16  6\n",
      " 14 19  5 14  5  7  2 13 17  4 17 19 18  8 16  5 11  3  7  8  1  1 13  2\n",
      " 12  3  2  5 11  9 13 15 12  9 10 10  4  2  6 14  3  4 19  4 19  8  3  5\n",
      " 12  2  2 12  7  3  9  6 15  7  0 13 19  3 19 19 10 12 18 19 13  0  8 12\n",
      "  6  2  0  9 10  4 12  0 11 12  6 18  2  9 18  1  9 11 15 16  8  4  4 11\n",
      " 15  5  5 15 18  4 18  1  9 14 11 12  3 12 14 18  9  0 11 14  4  4  1  2\n",
      "  5  5 15  2  0  7 12 10  4 10  5  9 18 19  2 19  3  9  8 10  9  4 10  7\n",
      "  9  8 16  3  6  5 14  6  3 15  8  6  7  6 17  5 13 15  2  5 13  2  2  2\n",
      " 14 11  3  9  9 12  9 10  2 15 19  5 11 14  0 17 12  7 14  5  4 17 18 15\n",
      "  5 10 13 17  6 12  6  0  7  8 19 10  2 19 19 16  8 14  2 19 13 13 11  6\n",
      " 14  6 11  1  7  1 19 11  3 13  4  4 16  9  2 15 11 14 12 19  4 16  7  4\n",
      "  9 19  7  1 10  0  8  9  6  8  9  6 13 13  9 14 18 18 10 16 15  2 17 12\n",
      " 16  0  3 18  9  2  6 10  0  2  3 17  0 13 13  5  1 19  0  1  7  2  2 12\n",
      " 10  0 13 18 10 10 18 11 12 13  0  4  6 10  5  0  1  7 10  1  2 19  3  2\n",
      "  8  7  2  5 15  4  4 13  8 18 16 16  9 14  5  9  9  1  2 11  2 12  5  8\n",
      "  1 10 12 16  4 16  3 19  0  5 17  6  3  9  5 13 14  6  2  8 13 12  3  2\n",
      "  8 11 11  5  1 17  9  7 12 13 19 13  2  9 19  3 16  1  6  9  6  5  9  8\n",
      " 10 19 10  4  7 11  6  5 10 11  3  6 16 11 15  1  1  1 15 16  2 14  8 16\n",
      "  2  9  9  4  4 17 16]\n",
      "The model is 21.182943603851445% accurate\n"
     ]
    }
   ],
   "source": [
    "y_pred=model.predict(x_test)\n",
    "print(\"The predicted Data is :\")\n",
    "print(y_pred)\n",
    "print(\"The actual data is:\")\n",
    "print(np.array(y_test))\n",
    "print(f\"The model is {accuracy_score(y_pred,y_test)*100}% accurate\")"
   ]
  },
  {
   "cell_type": "markdown",
   "id": "d8ae34fc",
   "metadata": {},
   "source": [
    "# Performance Metrics"
   ]
  },
  {
   "cell_type": "code",
   "execution_count": 14,
   "id": "244eac82",
   "metadata": {},
   "outputs": [
    {
     "name": "stdout",
     "output_type": "stream",
     "text": [
      "              precision    recall  f1-score   support\n",
      "\n",
      "           0       0.18      0.10      0.13        30\n",
      "           1       0.20      0.27      0.23        37\n",
      "           2       0.27      0.45      0.34        51\n",
      "           3       0.11      0.13      0.12        30\n",
      "           4       0.10      0.14      0.12        43\n",
      "           5       0.30      0.24      0.26        38\n",
      "           6       0.19      0.26      0.22        39\n",
      "           7       0.15      0.12      0.13        34\n",
      "           8       0.22      0.29      0.25        34\n",
      "           9       0.31      0.27      0.29        48\n",
      "          10       0.21      0.09      0.12        35\n",
      "          11       0.12      0.15      0.14        39\n",
      "          12       0.16      0.11      0.13        37\n",
      "          13       0.27      0.12      0.16        34\n",
      "          14       0.47      0.47      0.47        32\n",
      "          15       0.13      0.06      0.09        31\n",
      "          16       0.24      0.26      0.25        31\n",
      "          17       0.17      0.20      0.18        30\n",
      "          18       0.14      0.07      0.09        30\n",
      "          19       0.23      0.27      0.25        44\n",
      "\n",
      "    accuracy                           0.21       727\n",
      "   macro avg       0.21      0.20      0.20       727\n",
      "weighted avg       0.21      0.21      0.20       727\n",
      "\n"
     ]
    }
   ],
   "source": [
    "from sklearn import metrics\n",
    "print(metrics.classification_report(y_test, y_pred))"
   ]
  },
  {
   "cell_type": "code",
   "execution_count": 17,
   "id": "1b85079a",
   "metadata": {},
   "outputs": [
    {
     "data": {
      "image/png": "[encoded data removed]",
      "text/plain": [
       "<Figure size 432x288 with 2 Axes>"
      ]
     },
     "metadata": {
      "needs_background": "light"
     },
     "output_type": "display_data"
    }
   ],
   "source": [
    "cf_matrix = metrics.confusion_matrix(y_test,y_pred)\n",
    "ax = sns.heatmap(cf_matrix, annot=True, cmap='Blues', fmt=\"d\")\n",
    "ax.set_title('Confusion Matrix');\n",
    "ax.set_xlabel('Predicted Values')\n",
    "ax.set_ylabel('Actual Values ')\n",
    "plt.show()"
   ]
  }
 ],
 "metadata": {
  "kernelspec": {
   "display_name": "Python 3 (ipykernel)",
   "language": "python",
   "name": "python3"
  },
  "language_info": {
   "codemirror_mode": {
    "name": "ipython",
    "version": 3
   },
   "file_extension": ".py",
   "mimetype": "text/x-python",
   "name": "python",
   "nbconvert_exporter": "python",
   "pygments_lexer": "ipython3",
   "version": "3.9.7"
  }
 },
 "nbformat": 4,
 "nbformat_minor": 5
}
