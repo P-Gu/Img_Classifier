{
 "cells": [
  {
   "cell_type": "markdown",
   "id": "92cf5cfe",
   "metadata": {},
   "source": [
    "# Import Packages"
   ]
  },
  {
   "cell_type": "code",
   "execution_count": 30,
   "id": "cbd95645",
   "metadata": {},
   "outputs": [],
   "source": [
    "import pandas as pd\n",
    "import os\n",
    "from skimage.transform import resize\n",
    "from skimage.io import imread, imshow\n",
    "import numpy as np\n",
    "import matplotlib.pyplot as plt\n",
    "import seaborn as sns\n",
    "\n",
    "from sklearn import svm\n",
    "from sklearn.model_selection import GridSearchCV\n",
    "\n",
    "from sklearn.model_selection import train_test_split\n",
    "from sklearn.metrics import accuracy_score\n",
    "\n",
    "import xml.etree.ElementTree as ET"
   ]
  },
  {
   "cell_type": "markdown",
   "id": "359e916c",
   "metadata": {},
   "source": [
    "# Loading Images and Annotations"
   ]
  },
  {
   "cell_type": "code",
   "execution_count": 10,
   "id": "1958681e",
   "metadata": {},
   "outputs": [
    {
     "name": "stdout",
     "output_type": "stream",
     "text": [
      "Chihuahua\n",
      "Japanese_spaniel\n",
      "Maltese_dog\n",
      "Pekinese\n",
      "Shih\n",
      "Blenheim_spaniel\n",
      "papillon\n",
      "toy_terrier\n",
      "Rhodesian_ridgeback\n",
      "Afghan_hound\n",
      "basset\n",
      "beagle\n",
      "bloodhound\n",
      "bluetick\n",
      "black\n",
      "Walker_hound\n",
      "English_foxhound\n",
      "redbone\n",
      "borzoi\n",
      "Irish_wolfhound\n"
     ]
    }
   ],
   "source": [
    "img_dir = \"C:/Github/Img_Classifier/Dataset/images/Images\"\n",
    "ant_dir = \"C:/Github/Img_Classifier/Dataset/annotations/Annotation\"\n",
    "X=[] #input array\n",
    "Y=[] #output array\n",
    "\n",
    "bnd_dict = {}\n",
    "\n",
    "# Load annotations\n",
    "label_count = 0\n",
    "for sub_dir in os.listdir(ant_dir):\n",
    "    label_count += 1\n",
    "    label = sub_dir.split(\"-\")[1]\n",
    "    print(label)\n",
    "    path=os.path.join(ant_dir,sub_dir)\n",
    "    for ant in os.listdir(path):\n",
    "        if ant[0] != 'n': continue\n",
    "        tree = ET.parse(os.path.join(path,ant))\n",
    "        root = tree.getroot()\n",
    "        bndbox = root.find(\"object\").find(\"bndbox\")\n",
    "        xmin = int(bndbox.findtext(\"xmin\"))\n",
    "        ymin = int(bndbox.findtext(\"ymin\"))\n",
    "        xmax = int(bndbox.findtext(\"xmax\"))\n",
    "        ymax = int(bndbox.findtext(\"ymax\"))\n",
    "        bnd_dict[ant] = [xmin, ymin, xmax, ymax]\n",
    "    if label_count >= 20: break"
   ]
  },
  {
   "cell_type": "code",
   "execution_count": 11,
   "id": "c7d8a708",
   "metadata": {},
   "outputs": [
    {
     "name": "stdout",
     "output_type": "stream",
     "text": [
      "loaded category:Chihuahua successfully\n",
      "loaded category:Japanese_spaniel successfully\n",
      "loaded category:Maltese_dog successfully\n",
      "loaded category:Pekinese successfully\n",
      "loaded category:Shih successfully\n",
      "loaded category:Blenheim_spaniel successfully\n",
      "loaded category:papillon successfully\n",
      "loaded category:toy_terrier successfully\n",
      "loaded category:Rhodesian_ridgeback successfully\n",
      "loaded category:Afghan_hound successfully\n",
      "loaded category:basset successfully\n",
      "loaded category:beagle successfully\n",
      "loaded category:bloodhound successfully\n",
      "loaded category:bluetick successfully\n",
      "loaded category:black successfully\n",
      "loaded category:Walker_hound successfully\n",
      "loaded category:English_foxhound successfully\n",
      "loaded category:redbone successfully\n",
      "loaded category:borzoi successfully\n",
      "loaded category:Irish_wolfhound successfully\n",
      "(10899, 150, 150, 3)\n",
      "(10899,)\n"
     ]
    }
   ],
   "source": [
    "# Load images      \n",
    "label_count = 0\n",
    "for sub_dir in os.listdir(img_dir):\n",
    "    label_count += 1\n",
    "    label = sub_dir.split(\"-\")[1]\n",
    "    #print(label)\n",
    "    path=os.path.join(img_dir,sub_dir)\n",
    "    for img in os.listdir(path):\n",
    "        if img[0] != 'n': continue\n",
    "        img_array=imread(os.path.join(path,img))\n",
    "        #imshow(img_array)\n",
    "        #plt.show()\n",
    "        bnd = bnd_dict[img.split(\".\")[0]]         \n",
    "        img_bnd = img_array[bnd[1]:bnd[3],bnd[0]:bnd[2]]  # Use bndbox to crop image\n",
    "        #imshow(img_bnd)\n",
    "        #plt.show()\n",
    "        #print(img_bnd)\n",
    "        img_resized=resize(img_bnd,(150, 150, 3))#(150,150,3))\n",
    "        #print(img_resized)\n",
    "        X.append(img_resized)#.flatten()) # don't flatten it if CNN\n",
    "        Y.append(label_count-1)\n",
    "        \n",
    "        img_fliplr = np.fliplr(img_resized)\n",
    "        X.append(img_fliplr)#.flatten())\n",
    "        Y.append(label_count-1)\n",
    "        \n",
    "        img_flipud = np.flipud(img_resized)\n",
    "        X.append(img_flipud)#.flatten())\n",
    "        Y.append(label_count-1)\n",
    "        \n",
    "    print(f'loaded category:{label} successfully')\n",
    "    if label_count >= 20: break\n",
    "\n",
    "X=np.array(X)#.astype('float16')\n",
    "Y=np.array(Y)#.astype('float16')\n",
    "print(X.shape)\n",
    "print(Y.shape)"
   ]
  },
  {
   "cell_type": "code",
   "execution_count": 12,
   "id": "2b27e034",
   "metadata": {},
   "outputs": [],
   "source": [
    "# print(X)"
   ]
  },
  {
   "cell_type": "code",
   "execution_count": 13,
   "id": "90c719ed",
   "metadata": {},
   "outputs": [],
   "source": [
    "# Adjusting number of classes according to processing resources\n",
    "\n",
    "num_classes = 20"
   ]
  },
  {
   "cell_type": "markdown",
   "id": "64eeffb4",
   "metadata": {},
   "source": [
    "# Importing packages for Neural Networks"
   ]
  },
  {
   "cell_type": "code",
   "execution_count": 14,
   "id": "f4216511",
   "metadata": {},
   "outputs": [],
   "source": [
    "import torch\n",
    "import torchvision\n",
    "import numpy as np\n",
    "import matplotlib.pyplot as plt\n",
    "import torch.nn as nn\n",
    "import torch.nn.functional as F\n",
    "from torchvision.transforms import ToTensor\n",
    "from torchvision.utils import make_grid\n",
    "from torch.utils.data.dataloader import DataLoader\n",
    "from torch.utils.data import random_split, TensorDataset\n",
    "%matplotlib inline\n",
    "from torchvision import transforms\n",
    "from torchvision.utils import save_image\n",
    "import torch.optim as optim"
   ]
  },
  {
   "cell_type": "code",
   "execution_count": 15,
   "id": "2a47523b",
   "metadata": {},
   "outputs": [
    {
     "data": {
      "text/plain": [
       "4"
      ]
     },
     "execution_count": 15,
     "metadata": {},
     "output_type": "execute_result"
    }
   ],
   "source": [
    "# Setting up garbage collector to clear cache and allow memory space.\n",
    "import gc\n",
    "\n",
    "gc.collect()"
   ]
  },
  {
   "cell_type": "code",
   "execution_count": 16,
   "id": "139e3570",
   "metadata": {},
   "outputs": [
    {
     "data": {
      "text/plain": [
       "'|===========================================================================|\\n|                  PyTorch CUDA memory summary, device ID 0                 |\\n|---------------------------------------------------------------------------|\\n|            CUDA OOMs: 0            |        cudaMalloc retries: 0         |\\n|===========================================================================|\\n|        Metric         | Cur Usage  | Peak Usage | Tot Alloc  | Tot Freed  |\\n|---------------------------------------------------------------------------|\\n| Allocated memory      |       0 B  |       0 B  |       0 B  |       0 B  |\\n|       from large pool |       0 B  |       0 B  |       0 B  |       0 B  |\\n|       from small pool |       0 B  |       0 B  |       0 B  |       0 B  |\\n|---------------------------------------------------------------------------|\\n| Active memory         |       0 B  |       0 B  |       0 B  |       0 B  |\\n|       from large pool |       0 B  |       0 B  |       0 B  |       0 B  |\\n|       from small pool |       0 B  |       0 B  |       0 B  |       0 B  |\\n|---------------------------------------------------------------------------|\\n| GPU reserved memory   |       0 B  |       0 B  |       0 B  |       0 B  |\\n|       from large pool |       0 B  |       0 B  |       0 B  |       0 B  |\\n|       from small pool |       0 B  |       0 B  |       0 B  |       0 B  |\\n|---------------------------------------------------------------------------|\\n| Non-releasable memory |       0 B  |       0 B  |       0 B  |       0 B  |\\n|       from large pool |       0 B  |       0 B  |       0 B  |       0 B  |\\n|       from small pool |       0 B  |       0 B  |       0 B  |       0 B  |\\n|---------------------------------------------------------------------------|\\n| Allocations           |       0    |       0    |       0    |       0    |\\n|       from large pool |       0    |       0    |       0    |       0    |\\n|       from small pool |       0    |       0    |       0    |       0    |\\n|---------------------------------------------------------------------------|\\n| Active allocs         |       0    |       0    |       0    |       0    |\\n|       from large pool |       0    |       0    |       0    |       0    |\\n|       from small pool |       0    |       0    |       0    |       0    |\\n|---------------------------------------------------------------------------|\\n| GPU reserved segments |       0    |       0    |       0    |       0    |\\n|       from large pool |       0    |       0    |       0    |       0    |\\n|       from small pool |       0    |       0    |       0    |       0    |\\n|---------------------------------------------------------------------------|\\n| Non-releasable allocs |       0    |       0    |       0    |       0    |\\n|       from large pool |       0    |       0    |       0    |       0    |\\n|       from small pool |       0    |       0    |       0    |       0    |\\n|---------------------------------------------------------------------------|\\n| Oversize allocations  |       0    |       0    |       0    |       0    |\\n|---------------------------------------------------------------------------|\\n| Oversize GPU segments |       0    |       0    |       0    |       0    |\\n|===========================================================================|\\n'"
      ]
     },
     "execution_count": 16,
     "metadata": {},
     "output_type": "execute_result"
    }
   ],
   "source": [
    "import torch\n",
    "torch.cuda.empty_cache()\n",
    "\n",
    "torch.cuda.memory_summary(device=None, abbreviated=False)"
   ]
  },
  {
   "cell_type": "markdown",
   "id": "c0f445a5",
   "metadata": {},
   "source": [
    "# Build datasets and dataloaders"
   ]
  },
  {
   "cell_type": "code",
   "execution_count": 17,
   "id": "ea897ba2",
   "metadata": {},
   "outputs": [
    {
     "name": "stdout",
     "output_type": "stream",
     "text": [
      "torch.Size([10899, 3, 150, 150])\n",
      "torch.Size([10899])\n"
     ]
    }
   ],
   "source": [
    "tensor_x = torch.Tensor(X) # transform to torch tensor\n",
    "tensor_x = torch.swapaxes(tensor_x, 2, 3)\n",
    "tensor_x = torch.swapaxes(tensor_x, 1, 2)\n",
    "print(tensor_x.size())\n",
    "tensor_y = torch.Tensor(Y).type(torch.LongTensor)\n",
    "print(tensor_y.size())\n",
    "\n",
    "dataset = TensorDataset(tensor_x,tensor_y)\n",
    "train_size = int(X.shape[0]*0.8)\n",
    "val_size = int(X.shape[0]*0.1)\n",
    "test_size = X.shape[0] - train_size - val_size\n",
    "train_ds, val_ds, test_ds = random_split(dataset, [train_size, val_size, test_size])\n",
    "\n",
    "#passing the train, val and test datasets to the dataloader\n",
    "train_dl = DataLoader(train_ds, batch_size=16, shuffle=True)\n",
    "val_dl = DataLoader(val_ds, batch_size=16, shuffle=False)\n",
    "test_dl = DataLoader(test_ds, batch_size=16, shuffle=False)"
   ]
  },
  {
   "cell_type": "markdown",
   "id": "3f7e954d",
   "metadata": {},
   "source": [
    "# A 3-layer CNN implementation"
   ]
  },
  {
   "cell_type": "code",
   "execution_count": 18,
   "id": "f4066336",
   "metadata": {},
   "outputs": [],
   "source": [
    "# Created a CNN class:\n",
    "class CNN(nn.Module):\n",
    "    \n",
    "    # Defining the neural net architecture\n",
    "    def __init__(self, num_classes):\n",
    "        super(CNN, self).__init__()\n",
    "        \n",
    "        # Convolution layer with 3 input channels, 32 kernels of size 3 x 3\n",
    "        self.convolutional_layer_1 = nn.Conv2d(in_channels = 3, out_channels = 32, kernel_size = 3, stride = 2)\n",
    "        \n",
    "        # Max-pooling of size 2 x 2\n",
    "        self.max_pool1 = nn.MaxPool2d(kernel_size = 2, stride = 2)\n",
    "        \n",
    "        # Convolution layer with 32 input channels, 32 kernels of size  3 x 3\n",
    "        self.convolutional_layer_2 = nn.Conv2d(in_channels = 32, out_channels = 32, kernel_size = 3)\n",
    "        \n",
    "        # Max-pooling of size 2 x 2\n",
    "        self.max_pool2 = nn.MaxPool2d(kernel_size = 2, stride = 2)\n",
    "        \n",
    "        # Convolution layer with 32 input channels, 64 kernels of size  3 x 3\n",
    "        self.convolutional_layer_3 = nn.Conv2d(in_channels = 32, out_channels = 64, kernel_size = 3)\n",
    "        \n",
    "        # Flatten:\n",
    "        self.flatten = nn.Flatten()\n",
    "        \n",
    "        # Linear layer with 128 neurons\n",
    "        self.feedforward_1 = nn.Linear(56*56,128)\n",
    "        \n",
    "        # Linear layer with number of classes output neurons\n",
    "        self.feedforward_3 = nn.Linear(128,num_classes)\n",
    "        \n",
    "    # Forward pass:\n",
    "    def forward(self, x):\n",
    "        \n",
    "        out = self.convolutional_layer_1(x)\n",
    "        \n",
    "        out = self.max_pool1(F.relu(out))\n",
    "        \n",
    "        out = self.convolutional_layer_2(out)\n",
    "        \n",
    "        out = self.max_pool2(F.relu(out))\n",
    "        \n",
    "        out = self.convolutional_layer_3(out)\n",
    "        \n",
    "        out = self.max_pool2(F.relu(out))\n",
    "        \n",
    "        out = self.flatten(out)\n",
    "        \n",
    "        out = self.feedforward_1(out)\n",
    "        \n",
    "        out = self.feedforward_3(F.relu(out))\n",
    "        \n",
    "        # Adding a softmax activation function for multi-class labelling problem:\n",
    "        out = F.softmax(out)\n",
    "        \n",
    "        return out        "
   ]
  },
  {
   "cell_type": "code",
   "execution_count": 19,
   "id": "005a6b64",
   "metadata": {},
   "outputs": [],
   "source": [
    "# Train the model\n",
    "device = 'cuda' # if you dont have a gpu, set device = cpu here\n",
    "\n",
    "model = CNN(num_classes)\n",
    "\n",
    "model = model.to(device=device) #to send the model for training on either cuda or cpu"
   ]
  },
  {
   "cell_type": "markdown",
   "id": "a8d5dc9a",
   "metadata": {},
   "source": [
    "## Learning rate:\n",
    "\n",
    "With learning rate 1e-5 observed slowly converging minima. Trying out a slightly higher learning rate. \n",
    "\n",
    "With 1e-4 accuracy greatly improved, with nearly 30%. Choosing this as optimal. \n",
    "\n",
    "1e-3 provided nearly same accuracy, but with much slower convergence and slight fluctuations in the loss. "
   ]
  },
  {
   "cell_type": "code",
   "execution_count": 20,
   "id": "587a30b7",
   "metadata": {},
   "outputs": [],
   "source": [
    "learning_rate = 1e-4\n",
    "load_model = True"
   ]
  },
  {
   "cell_type": "markdown",
   "id": "070e0f8c",
   "metadata": {},
   "source": [
    "## Loss function:"
   ]
  },
  {
   "cell_type": "code",
   "execution_count": 21,
   "id": "90b33be4",
   "metadata": {},
   "outputs": [],
   "source": [
    "# Choosing the class with max probability. \n",
    "criterion = nn.MultiMarginLoss(p=2)"
   ]
  },
  {
   "cell_type": "markdown",
   "id": "04ea0660",
   "metadata": {},
   "source": [
    "## Optimizer:\n",
    "\n",
    "Adding weight decay of 1e-5 for l2 norm (ridge) cost optimization. This is specific to pytorch application. All models are \n",
    "set with default model parameters.\n",
    "\n",
    "Adadelta: An almost linear loss with negative loss. Uniform accuracy of 5.42% throughout all the epochs.\n",
    "\n",
    "SGD: Almost same performance as Adadelta, seems to be not suitable for this problem statement. \n",
    "\n",
    "RMSprop: Perfomed well, had a faster loss convergence rate during the early epochs, but gradually slowed down. Accuracy ~ 26%.\n",
    "\n",
    "Adagrad: Slow loss convergence, and low accuracy ~ 14%."
   ]
  },
  {
   "cell_type": "code",
   "execution_count": 22,
   "id": "c7f2fa7c",
   "metadata": {},
   "outputs": [],
   "source": [
    "optimizer = torch.optim.Adam(model.parameters(), lr=learning_rate, weight_decay=1e-5)\n",
    "# optimizer = torch.optim.Adadelta(model.parameters(), lr=learning_rate, weight_decay=1e-5)\n",
    "# optimizer = torch.optim.SGD(model.parameters(), lr=learning_rate, weight_decay=1e-5)\n",
    "# optimizer = torch.optim.RMSprop(model.parameters(), lr=learning_rate, weight_decay=1e-5)\n",
    "#optimizer = torch.optim.Adagrad(model.parameters(), lr=learning_rate, weight_decay=1e-5)"
   ]
  },
  {
   "cell_type": "markdown",
   "id": "4a18ba52",
   "metadata": {},
   "source": [
    "# Training and validation\n",
    "\n",
    "Training time ~ 6 minutes"
   ]
  },
  {
   "cell_type": "code",
   "execution_count": 23,
   "id": "79260677",
   "metadata": {},
   "outputs": [
    {
     "name": "stdout",
     "output_type": "stream",
     "text": [
      "learning rate:  0.0001\n"
     ]
    },
    {
     "name": "stderr",
     "output_type": "stream",
     "text": [
      "C:\\Users\\ashwi\\AppData\\Local\\Temp/ipykernel_16200/611178673.py:54: UserWarning: Implicit dimension choice for softmax has been deprecated. Change the call to include dim=X as an argument.\n",
      "  out = F.softmax(out)\n",
      "C:\\Users\\ashwi\\project\\anaconda3\\lib\\site-packages\\torch\\nn\\functional.py:3500: UserWarning: An output with one or more elements was resized since it had shape [], which does not match the required output shape [16].This behavior is deprecated, and in a future PyTorch release outputs will not be resized unless they have zero elements. You can explicitly reuse an out tensor t by resizing it, inplace, to zero elements with t.resize_(0). (Triggered internally at  C:\\cb\\pytorch_1000000000000\\work\\aten\\src\\ATen\\native\\Resize.cpp:24.)\n",
      "  return torch._C._nn.multi_margin_loss(input, target, p, margin, weight, reduction_enum)\n",
      "C:\\Users\\ashwi\\project\\anaconda3\\lib\\site-packages\\torch\\nn\\functional.py:3500: UserWarning: An output with one or more elements was resized since it had shape [16], which does not match the required output shape [].This behavior is deprecated, and in a future PyTorch release outputs will not be resized unless they have zero elements. You can explicitly reuse an out tensor t by resizing it, inplace, to zero elements with t.resize_(0). (Triggered internally at  C:\\cb\\pytorch_1000000000000\\work\\aten\\src\\ATen\\native\\Resize.cpp:24.)\n",
      "  return torch._C._nn.multi_margin_loss(input, target, p, margin, weight, reduction_enum)\n",
      "C:\\Users\\ashwi\\project\\anaconda3\\lib\\site-packages\\torch\\autograd\\__init__.py:173: UserWarning: An output with one or more elements was resized since it had shape [], which does not match the required output shape [16, 20].This behavior is deprecated, and in a future PyTorch release outputs will not be resized unless they have zero elements. You can explicitly reuse an out tensor t by resizing it, inplace, to zero elements with t.resize_(0). (Triggered internally at  C:\\cb\\pytorch_1000000000000\\work\\aten\\src\\ATen\\native\\Resize.cpp:24.)\n",
      "  Variable._execution_engine.run_backward(  # Calls into the C++ engine to run the backward pass\n",
      "C:\\Users\\ashwi\\project\\anaconda3\\lib\\site-packages\\torch\\nn\\functional.py:3500: UserWarning: An output with one or more elements was resized since it had shape [], which does not match the required output shape [15].This behavior is deprecated, and in a future PyTorch release outputs will not be resized unless they have zero elements. You can explicitly reuse an out tensor t by resizing it, inplace, to zero elements with t.resize_(0). (Triggered internally at  C:\\cb\\pytorch_1000000000000\\work\\aten\\src\\ATen\\native\\Resize.cpp:24.)\n",
      "  return torch._C._nn.multi_margin_loss(input, target, p, margin, weight, reduction_enum)\n",
      "C:\\Users\\ashwi\\project\\anaconda3\\lib\\site-packages\\torch\\nn\\functional.py:3500: UserWarning: An output with one or more elements was resized since it had shape [15], which does not match the required output shape [].This behavior is deprecated, and in a future PyTorch release outputs will not be resized unless they have zero elements. You can explicitly reuse an out tensor t by resizing it, inplace, to zero elements with t.resize_(0). (Triggered internally at  C:\\cb\\pytorch_1000000000000\\work\\aten\\src\\ATen\\native\\Resize.cpp:24.)\n",
      "  return torch._C._nn.multi_margin_loss(input, target, p, margin, weight, reduction_enum)\n",
      "C:\\Users\\ashwi\\project\\anaconda3\\lib\\site-packages\\torch\\autograd\\__init__.py:173: UserWarning: An output with one or more elements was resized since it had shape [], which does not match the required output shape [15, 20].This behavior is deprecated, and in a future PyTorch release outputs will not be resized unless they have zero elements. You can explicitly reuse an out tensor t by resizing it, inplace, to zero elements with t.resize_(0). (Triggered internally at  C:\\cb\\pytorch_1000000000000\\work\\aten\\src\\ATen\\native\\Resize.cpp:24.)\n",
      "  Variable._execution_engine.run_backward(  # Calls into the C++ engine to run the backward pass\n"
     ]
    },
    {
     "name": "stdout",
     "output_type": "stream",
     "text": [
      "Loss in epoch 0 :::: 0.9094685720741202\n",
      "Got 158 / 1089 with accuracy 14.51\n",
      "learning rate:  0.0001\n",
      "Loss in epoch 1 :::: 0.8335484381115764\n",
      "Got 192 / 1089 with accuracy 17.63\n",
      "learning rate:  0.0001\n",
      "Loss in epoch 2 :::: 0.7972042640961639\n",
      "Got 212 / 1089 with accuracy 19.47\n",
      "learning rate:  0.0001\n",
      "Loss in epoch 3 :::: 0.7807853827235895\n",
      "Got 232 / 1089 with accuracy 21.30\n",
      "learning rate:  0.0001\n",
      "Loss in epoch 4 :::: 0.7628537078516199\n",
      "Got 245 / 1089 with accuracy 22.50\n",
      "learning rate:  0.0001\n",
      "Loss in epoch 5 :::: 0.748678463861483\n",
      "Got 256 / 1089 with accuracy 23.51\n",
      "learning rate:  0.0001\n",
      "Loss in epoch 6 :::: 0.731790359468635\n",
      "Got 260 / 1089 with accuracy 23.88\n",
      "learning rate:  0.0001\n",
      "Loss in epoch 7 :::: 0.7205621275879921\n",
      "Got 283 / 1089 with accuracy 25.99\n",
      "learning rate:  0.0001\n",
      "Loss in epoch 8 :::: 0.707731440581313\n",
      "Got 289 / 1089 with accuracy 26.54\n",
      "learning rate:  0.0001\n",
      "Loss in epoch 9 :::: 0.692997283071553\n",
      "Got 296 / 1089 with accuracy 27.18\n",
      "learning rate:  0.0001\n",
      "Loss in epoch 10 :::: 0.6776338037000884\n",
      "Got 321 / 1089 with accuracy 29.48\n",
      "learning rate:  0.0001\n",
      "Loss in epoch 11 :::: 0.6686663216407146\n",
      "Got 332 / 1089 with accuracy 30.49\n",
      "learning rate:  0.0001\n",
      "Loss in epoch 12 :::: 0.6614345321414667\n",
      "Got 301 / 1089 with accuracy 27.64\n",
      "learning rate:  0.0001\n",
      "Loss in epoch 13 :::: 0.6482413404578463\n",
      "Got 345 / 1089 with accuracy 31.68\n",
      "learning rate:  0.0001\n",
      "Loss in epoch 14 :::: 0.6388826042687127\n",
      "Got 362 / 1089 with accuracy 33.24\n",
      "learning rate:  0.0001\n",
      "Loss in epoch 15 :::: 0.6300603018988163\n",
      "Got 356 / 1089 with accuracy 32.69\n",
      "learning rate:  0.0001\n",
      "Loss in epoch 16 :::: 0.6244518352757901\n",
      "Got 338 / 1089 with accuracy 31.04\n",
      "learning rate:  0.0001\n",
      "Loss in epoch 17 :::: 0.6137745472816152\n",
      "Got 355 / 1089 with accuracy 32.60\n",
      "learning rate:  0.0001\n",
      "Loss in epoch 18 :::: 0.6056892935289155\n",
      "Got 349 / 1089 with accuracy 32.05\n",
      "learning rate:  0.0001\n",
      "Loss in epoch 19 :::: 0.5978606210389269\n",
      "Got 363 / 1089 with accuracy 33.33\n",
      "learning rate:  0.0001\n",
      "Loss in epoch 20 :::: 0.5898466244476651\n",
      "Got 361 / 1089 with accuracy 33.15\n",
      "learning rate:  0.0001\n",
      "Loss in epoch 21 :::: 0.5810037319813299\n",
      "Got 360 / 1089 with accuracy 33.06\n",
      "learning rate:  0.0001\n",
      "Loss in epoch 22 :::: 0.5733332262126678\n",
      "Got 366 / 1089 with accuracy 33.61\n",
      "learning rate:  0.0001\n",
      "Loss in epoch 23 :::: 0.569673221291752\n",
      "Got 348 / 1089 with accuracy 31.96\n",
      "learning rate:  0.0001\n",
      "Loss in epoch 24 :::: 0.5568533115977541\n",
      "Got 366 / 1089 with accuracy 33.61\n",
      "learning rate:  0.0001\n",
      "Loss in epoch 25 :::: 0.5528668706296781\n",
      "Got 361 / 1089 with accuracy 33.15\n",
      "learning rate:  0.0001\n",
      "Loss in epoch 26 :::: 0.5443586843549658\n",
      "Got 371 / 1089 with accuracy 34.07\n",
      "learning rate:  0.0001\n",
      "Loss in epoch 27 :::: 0.5373594305657465\n",
      "Got 363 / 1089 with accuracy 33.33\n",
      "learning rate:  0.0001\n",
      "Loss in epoch 28 :::: 0.5293488417880251\n",
      "Got 388 / 1089 with accuracy 35.63\n",
      "learning rate:  0.0001\n",
      "Loss in epoch 29 :::: 0.5244468226345307\n",
      "Got 370 / 1089 with accuracy 33.98\n",
      "learning rate:  0.0001\n",
      "Loss in epoch 30 :::: 0.5168331184245031\n",
      "Got 360 / 1089 with accuracy 33.06\n",
      "learning rate:  0.0001\n",
      "Loss in epoch 31 :::: 0.5142453476649905\n",
      "Got 369 / 1089 with accuracy 33.88\n",
      "learning rate:  0.0001\n",
      "Loss in epoch 32 :::: 0.5043936929298103\n",
      "Got 386 / 1089 with accuracy 35.45\n",
      "learning rate:  0.0001\n",
      "Loss in epoch 33 :::: 0.49985788978567913\n",
      "Got 369 / 1089 with accuracy 33.88\n",
      "learning rate:  0.0001\n",
      "Loss in epoch 34 :::: 0.49027298240486633\n",
      "Got 382 / 1089 with accuracy 35.08\n",
      "learning rate:  0.0001\n",
      "Loss in epoch 35 :::: 0.4859066670914309\n",
      "Got 374 / 1089 with accuracy 34.34\n",
      "learning rate:  0.0001\n",
      "Loss in epoch 36 :::: 0.4782027732888493\n",
      "Got 381 / 1089 with accuracy 34.99\n",
      "learning rate:  0.0001\n",
      "Loss in epoch 37 :::: 0.47211779015600136\n",
      "Got 362 / 1089 with accuracy 33.24\n",
      "learning rate:  0.0001\n",
      "Loss in epoch 38 :::: 0.4669172775581342\n",
      "Got 370 / 1089 with accuracy 33.98\n",
      "learning rate:  0.0001\n",
      "Loss in epoch 39 :::: 0.46236180280326705\n",
      "Got 389 / 1089 with accuracy 35.72\n",
      "learning rate:  0.0001\n",
      "Loss in epoch 40 :::: 0.4570362500641324\n",
      "Got 387 / 1089 with accuracy 35.54\n",
      "learning rate:  0.0001\n",
      "Loss in epoch 41 :::: 0.4500131181073845\n",
      "Got 371 / 1089 with accuracy 34.07\n",
      "learning rate:  0.0001\n",
      "Loss in epoch 42 :::: 0.44454390468127136\n",
      "Got 393 / 1089 with accuracy 36.09\n",
      "learning rate:  0.0001\n",
      "Loss in epoch 43 :::: 0.4387970014723069\n",
      "Got 404 / 1089 with accuracy 37.10\n",
      "learning rate:  0.0001\n",
      "Loss in epoch 44 :::: 0.4334061279209382\n",
      "Got 386 / 1089 with accuracy 35.45\n",
      "learning rate:  0.0001\n",
      "Loss in epoch 45 :::: 0.43170569645702295\n",
      "Got 393 / 1089 with accuracy 36.09\n",
      "learning rate:  0.0001\n",
      "Loss in epoch 46 :::: 0.422668182918238\n",
      "Got 373 / 1089 with accuracy 34.25\n",
      "learning rate:  0.0001\n",
      "Loss in epoch 47 :::: 0.4190257633497956\n",
      "Got 384 / 1089 with accuracy 35.26\n",
      "learning rate:  0.0001\n",
      "Loss in epoch 48 :::: 0.4191828548634818\n",
      "Got 360 / 1089 with accuracy 33.06\n",
      "learning rate:  0.0001\n",
      "Loss in epoch 49 :::: 0.4105820688564296\n",
      "Got 381 / 1089 with accuracy 34.99\n"
     ]
    }
   ],
   "source": [
    "# Tracking losses:\n",
    "val_acc = []\n",
    "tr_loss = []\n",
    "\n",
    "for epoch in range(50): # How many epochs?\n",
    "    loss_ep = 0\n",
    "    \n",
    "    print(\"learning rate: \", learning_rate)\n",
    "    \n",
    "    for batch_idx, (data, targets) in enumerate(train_dl):\n",
    "        data = data.to(device=device)\n",
    "        targets = targets.to(device=device)\n",
    "        ## Forward Pass\n",
    "        optimizer.zero_grad()\n",
    "        scores = model(data)\n",
    "        loss = criterion(scores,targets)\n",
    "        loss.backward()\n",
    "        optimizer.step()\n",
    "        loss_ep += loss.item()\n",
    "    print(f\"Loss in epoch {epoch} :::: {loss_ep/len(train_dl)}\")\n",
    "    tr_loss.append(loss_ep/len(train_dl))\n",
    "\n",
    "    with torch.no_grad():\n",
    "        num_correct = 0\n",
    "        num_samples = 0\n",
    "        for batch_idx, (data,targets) in enumerate(val_dl):\n",
    "            data = data.to(device=device)\n",
    "            targets = targets.to(device=device)\n",
    "            ## Forward Pass\n",
    "            scores = model(data)\n",
    "            _, predictions = scores.max(1)\n",
    "            num_correct += (predictions == targets).sum()\n",
    "            num_samples += predictions.size(0)\n",
    "        print(\n",
    "            f\"Got {num_correct} / {num_samples} with accuracy {float(num_correct) / float(num_samples) * 100:.2f}\"\n",
    "        )\n",
    "        val_acc.append(float(num_correct) / float(num_samples) * 100)"
   ]
  },
  {
   "cell_type": "code",
   "execution_count": 24,
   "id": "a7a21ddd",
   "metadata": {},
   "outputs": [
    {
     "data": {
      "image/png": "[encoded data removed]",
      "text/plain": [
       "<Figure size 432x288 with 1 Axes>"
      ]
     },
     "metadata": {
      "needs_background": "light"
     },
     "output_type": "display_data"
    },
    {
     "data": {
      "image/png": "[encoded data removed]",
      "text/plain": [
       "<Figure size 432x288 with 1 Axes>"
      ]
     },
     "metadata": {
      "needs_background": "light"
     },
     "output_type": "display_data"
    }
   ],
   "source": [
    "# Plots out train loss and validation accuracy\n",
    "plt.title(\"CNN+SVM Train loss\")\n",
    "plt.plot(list(range(1, len(tr_loss)+1)), tr_loss)\n",
    "\n",
    "plt.show()\n",
    "\n",
    "plt.title(\"CNN+SVM Validation accuracy\")\n",
    "plt.plot(list(range(1, len(val_acc)+1)), val_acc)\n",
    "\n",
    "plt.show()"
   ]
  },
  {
   "cell_type": "code",
   "execution_count": 25,
   "id": "0c0e32b1",
   "metadata": {},
   "outputs": [
    {
     "data": {
      "image/png": "[encoded data removed]",
      "text/plain": [
       "<Figure size 432x288 with 1 Axes>"
      ]
     },
     "metadata": {
      "needs_background": "light"
     },
     "output_type": "display_data"
    }
   ],
   "source": [
    "# Plots out train loss and validation accuracy\n",
    "plt.title(\"CNN+SVM Train loss\")\n",
    "plt.plot(list(range(1, len(tr_loss)+1)), tr_loss)\n",
    "plt.plot(list(range(1, len(val_acc)+1)), val_acc)\n",
    "plt.show()"
   ]
  },
  {
   "cell_type": "markdown",
   "id": "8f29ff66",
   "metadata": {},
   "source": [
    "# Testing"
   ]
  },
  {
   "cell_type": "code",
   "execution_count": 26,
   "id": "6792244c",
   "metadata": {},
   "outputs": [
    {
     "name": "stderr",
     "output_type": "stream",
     "text": [
      "C:\\Users\\ashwi\\AppData\\Local\\Temp/ipykernel_16200/611178673.py:54: UserWarning: Implicit dimension choice for softmax has been deprecated. Change the call to include dim=X as an argument.\n",
      "  out = F.softmax(out)\n"
     ]
    },
    {
     "name": "stdout",
     "output_type": "stream",
     "text": [
      "Got 373 / 1091 with accuracy 34.19\n"
     ]
    }
   ],
   "source": [
    "y_pred = []\n",
    "y_test = []\n",
    "# Prints out test accuracy\n",
    "with torch.no_grad():\n",
    "    num_correct = 0\n",
    "    num_samples = 0\n",
    "    for batch_idx, (data,targets) in enumerate(test_dl):\n",
    "        data = data.to(device=device)\n",
    "        targets = targets.to(device=device)\n",
    "        ## Forward Pass\n",
    "        scores = model(data)\n",
    "        _, predictions = scores.max(1)\n",
    "        y_test.append(targets.tolist())\n",
    "        y_pred.append(predictions.tolist())\n",
    "        num_correct += (predictions == targets).sum()\n",
    "        num_samples += predictions.size(0)\n",
    "    print(\n",
    "        f\"Got {num_correct} / {num_samples} with accuracy {float(num_correct) / float(num_samples) * 100:.2f}\"\n",
    "    )"
   ]
  },
  {
   "cell_type": "code",
   "execution_count": 27,
   "id": "559b5033",
   "metadata": {},
   "outputs": [],
   "source": [
    "y_pred = [item for sublist in y_pred for item in sublist]"
   ]
  },
  {
   "cell_type": "code",
   "execution_count": 28,
   "id": "7fcd0291",
   "metadata": {},
   "outputs": [],
   "source": [
    "y_test = [item for sublist in y_test for item in sublist]"
   ]
  },
  {
   "cell_type": "markdown",
   "id": "6a46c79c",
   "metadata": {},
   "source": [
    "# Performance metrics"
   ]
  },
  {
   "cell_type": "code",
   "execution_count": 29,
   "id": "8debce8e",
   "metadata": {},
   "outputs": [
    {
     "name": "stdout",
     "output_type": "stream",
     "text": [
      "              precision    recall  f1-score   support\n",
      "\n",
      "           0       0.20      0.15      0.17        40\n",
      "           1       0.34      0.29      0.31        42\n",
      "           2       0.67      0.62      0.64        78\n",
      "           3       0.33      0.12      0.17        43\n",
      "           4       0.30      0.31      0.30        75\n",
      "           5       0.43      0.34      0.38        58\n",
      "           6       0.25      0.47      0.32        55\n",
      "           7       0.00      0.00      0.00        59\n",
      "           8       0.35      0.29      0.32        52\n",
      "           9       0.46      0.62      0.53        82\n",
      "          10       0.26      0.52      0.34        46\n",
      "          11       0.19      0.09      0.12        56\n",
      "          12       0.31      0.31      0.31        65\n",
      "          13       0.22      0.35      0.27        51\n",
      "          14       0.34      0.68      0.45        56\n",
      "          15       0.00      0.00      0.00        54\n",
      "          16       0.49      0.45      0.47        47\n",
      "          17       0.21      0.36      0.26        39\n",
      "          18       0.23      0.18      0.20        44\n",
      "          19       0.58      0.39      0.46        49\n",
      "\n",
      "    accuracy                           0.34      1091\n",
      "   macro avg       0.31      0.33      0.30      1091\n",
      "weighted avg       0.32      0.34      0.32      1091\n",
      "\n"
     ]
    },
    {
     "name": "stderr",
     "output_type": "stream",
     "text": [
      "C:\\Users\\ashwi\\project\\anaconda3\\lib\\site-packages\\sklearn\\metrics\\_classification.py:1248: UndefinedMetricWarning: Precision and F-score are ill-defined and being set to 0.0 in labels with no predicted samples. Use `zero_division` parameter to control this behavior.\n",
      "  _warn_prf(average, modifier, msg_start, len(result))\n",
      "C:\\Users\\ashwi\\project\\anaconda3\\lib\\site-packages\\sklearn\\metrics\\_classification.py:1248: UndefinedMetricWarning: Precision and F-score are ill-defined and being set to 0.0 in labels with no predicted samples. Use `zero_division` parameter to control this behavior.\n",
      "  _warn_prf(average, modifier, msg_start, len(result))\n",
      "C:\\Users\\ashwi\\project\\anaconda3\\lib\\site-packages\\sklearn\\metrics\\_classification.py:1248: UndefinedMetricWarning: Precision and F-score are ill-defined and being set to 0.0 in labels with no predicted samples. Use `zero_division` parameter to control this behavior.\n",
      "  _warn_prf(average, modifier, msg_start, len(result))\n"
     ]
    }
   ],
   "source": [
    "from sklearn import metrics\n",
    "print(metrics.classification_report(y_test, y_pred))"
   ]
  },
  {
   "cell_type": "code",
   "execution_count": 31,
   "id": "8e4cc692",
   "metadata": {},
   "outputs": [
    {
     "data": {
      "image/png": "[encoded data removed]",
      "text/plain": [
       "<Figure size 432x288 with 2 Axes>"
      ]
     },
     "metadata": {
      "needs_background": "light"
     },
     "output_type": "display_data"
    }
   ],
   "source": [
    "cf_matrix = metrics.confusion_matrix(y_test,y_pred)\n",
    "ax = sns.heatmap(cf_matrix, annot=True, cmap='Blues', fmt=\"d\")\n",
    "ax.set_title('Confusion Matrix');\n",
    "ax.set_xlabel('Predicted Values')\n",
    "ax.set_ylabel('Actual Values ')\n",
    "plt.show()"
   ]
  }
 ],
 "metadata": {
  "kernelspec": {
   "display_name": "Python 3 (ipykernel)",
   "language": "python",
   "name": "python3"
  },
  "language_info": {
   "codemirror_mode": {
    "name": "ipython",
    "version": 3
   },
   "file_extension": ".py",
   "mimetype": "text/x-python",
   "name": "python",
   "nbconvert_exporter": "python",
   "pygments_lexer": "ipython3",
   "version": "3.9.7"
  }
 },
 "nbformat": 4,
 "nbformat_minor": 5
}
