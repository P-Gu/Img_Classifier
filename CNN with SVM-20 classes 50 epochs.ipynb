{
 "cells": [
  {
   "cell_type": "markdown",
   "id": "55b30bb6",
   "metadata": {},
   "source": [
    "# Import Packages"
   ]
  },
  {
   "cell_type": "code",
   "execution_count": 1,
   "id": "cbd95645",
   "metadata": {},
   "outputs": [],
   "source": [
    "import pandas as pd\n",
    "import os\n",
    "from skimage.transform import resize\n",
    "from skimage.io import imread, imshow\n",
    "import numpy as np\n",
    "import matplotlib.pyplot as plt\n",
    "\n",
    "from sklearn import svm\n",
    "from sklearn.model_selection import GridSearchCV\n",
    "\n",
    "from sklearn.model_selection import train_test_split\n",
    "from sklearn.metrics import accuracy_score\n",
    "\n",
    "import xml.etree.ElementTree as ET"
   ]
  },
  {
   "cell_type": "markdown",
   "id": "12ee3cc5",
   "metadata": {},
   "source": [
    "# Loading Images and Annotations"
   ]
  },
  {
   "cell_type": "code",
   "execution_count": 2,
   "id": "1958681e",
   "metadata": {},
   "outputs": [
    {
     "name": "stdout",
     "output_type": "stream",
     "text": [
      "Chihuahua\n",
      "Japanese_spaniel\n",
      "Maltese_dog\n",
      "Pekinese\n",
      "Shih\n",
      "Blenheim_spaniel\n",
      "papillon\n",
      "toy_terrier\n",
      "Rhodesian_ridgeback\n",
      "Afghan_hound\n",
      "basset\n",
      "beagle\n",
      "bloodhound\n",
      "bluetick\n",
      "black\n",
      "Walker_hound\n",
      "English_foxhound\n",
      "redbone\n",
      "borzoi\n",
      "Irish_wolfhound\n"
     ]
    }
   ],
   "source": [
    "img_dir = \"C:/Github/Img_Classifier/images/Images\"\n",
    "ant_dir = \"C:/Github/Img_Classifier/annotations/Annotation\"\n",
    "X=[] #input array\n",
    "Y=[] #output array\n",
    "\n",
    "bnd_dict = {}\n",
    "\n",
    "# Load annotations\n",
    "label_count = 0\n",
    "for sub_dir in os.listdir(ant_dir):\n",
    "    label_count += 1\n",
    "    label = sub_dir.split(\"-\")[1]\n",
    "    print(label)\n",
    "    path=os.path.join(ant_dir,sub_dir)\n",
    "    for ant in os.listdir(path):\n",
    "        if ant[0] != 'n': continue\n",
    "        tree = ET.parse(os.path.join(path,ant))\n",
    "        root = tree.getroot()\n",
    "        bndbox = root.find(\"object\").find(\"bndbox\")\n",
    "        xmin = int(bndbox.findtext(\"xmin\"))\n",
    "        ymin = int(bndbox.findtext(\"ymin\"))\n",
    "        xmax = int(bndbox.findtext(\"xmax\"))\n",
    "        ymax = int(bndbox.findtext(\"ymax\"))\n",
    "        bnd_dict[ant] = [xmin, ymin, xmax, ymax]\n",
    "    if label_count >= 20: break"
   ]
  },
  {
   "cell_type": "code",
   "execution_count": 3,
   "id": "c7d8a708",
   "metadata": {},
   "outputs": [
    {
     "name": "stdout",
     "output_type": "stream",
     "text": [
      "loaded category:Chihuahua successfully\n",
      "loaded category:Japanese_spaniel successfully\n",
      "loaded category:Maltese_dog successfully\n",
      "loaded category:Pekinese successfully\n",
      "loaded category:Shih successfully\n",
      "loaded category:Blenheim_spaniel successfully\n",
      "loaded category:papillon successfully\n",
      "loaded category:toy_terrier successfully\n",
      "loaded category:Rhodesian_ridgeback successfully\n",
      "loaded category:Afghan_hound successfully\n",
      "loaded category:basset successfully\n",
      "loaded category:beagle successfully\n",
      "loaded category:bloodhound successfully\n",
      "loaded category:bluetick successfully\n",
      "loaded category:black successfully\n",
      "loaded category:Walker_hound successfully\n",
      "loaded category:English_foxhound successfully\n",
      "loaded category:redbone successfully\n",
      "loaded category:borzoi successfully\n",
      "loaded category:Irish_wolfhound successfully\n",
      "(10899, 150, 150, 3)\n",
      "(10899,)\n"
     ]
    }
   ],
   "source": [
    "# Load images      \n",
    "label_count = 0\n",
    "for sub_dir in os.listdir(img_dir):\n",
    "    label_count += 1\n",
    "    label = sub_dir.split(\"-\")[1]\n",
    "    #print(label)\n",
    "    path=os.path.join(img_dir,sub_dir)\n",
    "    for img in os.listdir(path):\n",
    "        if img[0] != 'n': continue\n",
    "        img_array=imread(os.path.join(path,img))\n",
    "        #imshow(img_array)\n",
    "        #plt.show()\n",
    "        bnd = bnd_dict[img.split(\".\")[0]]         \n",
    "        img_bnd = img_array[bnd[1]:bnd[3],bnd[0]:bnd[2]]  # Use bndbox to crop image\n",
    "        #imshow(img_bnd)\n",
    "        #plt.show()\n",
    "        #print(img_bnd)\n",
    "        img_resized=resize(img_bnd,(150, 150, 3))#(150,150,3))\n",
    "        #print(img_resized)\n",
    "        X.append(img_resized)#.flatten()) # don't flatten it if CNN\n",
    "        Y.append(label_count-1)\n",
    "        \n",
    "        img_fliplr = np.fliplr(img_resized)\n",
    "        X.append(img_fliplr)#.flatten())\n",
    "        Y.append(label_count-1)\n",
    "        \n",
    "        img_flipud = np.flipud(img_resized)\n",
    "        X.append(img_flipud)#.flatten())\n",
    "        Y.append(label_count-1)\n",
    "        \n",
    "    print(f'loaded category:{label} successfully')\n",
    "    if label_count >= 20: break\n",
    "\n",
    "X=np.array(X)#.astype('float16')\n",
    "Y=np.array(Y)#.astype('float16')\n",
    "print(X.shape)\n",
    "print(Y.shape)"
   ]
  },
  {
   "cell_type": "code",
   "execution_count": 4,
   "id": "2b27e034",
   "metadata": {},
   "outputs": [],
   "source": [
    "# print(X)"
   ]
  },
  {
   "cell_type": "code",
   "execution_count": 5,
   "id": "90c719ed",
   "metadata": {},
   "outputs": [],
   "source": [
    "# Adjusting number of classes according to processing resources\n",
    "\n",
    "num_classes = 20"
   ]
  },
  {
   "cell_type": "markdown",
   "id": "634b8d9b",
   "metadata": {},
   "source": [
    "# Importing packages for Neural Networks"
   ]
  },
  {
   "cell_type": "code",
   "execution_count": 6,
   "id": "f4216511",
   "metadata": {},
   "outputs": [],
   "source": [
    "import torch\n",
    "import torchvision\n",
    "import numpy as np\n",
    "import matplotlib.pyplot as plt\n",
    "import torch.nn as nn\n",
    "import torch.nn.functional as F\n",
    "from torchvision.transforms import ToTensor\n",
    "from torchvision.utils import make_grid\n",
    "from torch.utils.data.dataloader import DataLoader\n",
    "from torch.utils.data import random_split, TensorDataset\n",
    "%matplotlib inline\n",
    "from torchvision import transforms\n",
    "from torchvision.utils import save_image\n",
    "import torch.optim as optim"
   ]
  },
  {
   "cell_type": "code",
   "execution_count": 7,
   "id": "2a47523b",
   "metadata": {},
   "outputs": [
    {
     "data": {
      "text/plain": [
       "4"
      ]
     },
     "execution_count": 7,
     "metadata": {},
     "output_type": "execute_result"
    }
   ],
   "source": [
    "# Setting up garbage collector to clear cache and allow memory space.\n",
    "import gc\n",
    "\n",
    "gc.collect()"
   ]
  },
  {
   "cell_type": "code",
   "execution_count": 8,
   "id": "139e3570",
   "metadata": {},
   "outputs": [
    {
     "data": {
      "text/plain": [
       "'|===========================================================================|\\n|                  PyTorch CUDA memory summary, device ID 0                 |\\n|---------------------------------------------------------------------------|\\n|            CUDA OOMs: 0            |        cudaMalloc retries: 0         |\\n|===========================================================================|\\n|        Metric         | Cur Usage  | Peak Usage | Tot Alloc  | Tot Freed  |\\n|---------------------------------------------------------------------------|\\n| Allocated memory      |       0 B  |       0 B  |       0 B  |       0 B  |\\n|       from large pool |       0 B  |       0 B  |       0 B  |       0 B  |\\n|       from small pool |       0 B  |       0 B  |       0 B  |       0 B  |\\n|---------------------------------------------------------------------------|\\n| Active memory         |       0 B  |       0 B  |       0 B  |       0 B  |\\n|       from large pool |       0 B  |       0 B  |       0 B  |       0 B  |\\n|       from small pool |       0 B  |       0 B  |       0 B  |       0 B  |\\n|---------------------------------------------------------------------------|\\n| GPU reserved memory   |       0 B  |       0 B  |       0 B  |       0 B  |\\n|       from large pool |       0 B  |       0 B  |       0 B  |       0 B  |\\n|       from small pool |       0 B  |       0 B  |       0 B  |       0 B  |\\n|---------------------------------------------------------------------------|\\n| Non-releasable memory |       0 B  |       0 B  |       0 B  |       0 B  |\\n|       from large pool |       0 B  |       0 B  |       0 B  |       0 B  |\\n|       from small pool |       0 B  |       0 B  |       0 B  |       0 B  |\\n|---------------------------------------------------------------------------|\\n| Allocations           |       0    |       0    |       0    |       0    |\\n|       from large pool |       0    |       0    |       0    |       0    |\\n|       from small pool |       0    |       0    |       0    |       0    |\\n|---------------------------------------------------------------------------|\\n| Active allocs         |       0    |       0    |       0    |       0    |\\n|       from large pool |       0    |       0    |       0    |       0    |\\n|       from small pool |       0    |       0    |       0    |       0    |\\n|---------------------------------------------------------------------------|\\n| GPU reserved segments |       0    |       0    |       0    |       0    |\\n|       from large pool |       0    |       0    |       0    |       0    |\\n|       from small pool |       0    |       0    |       0    |       0    |\\n|---------------------------------------------------------------------------|\\n| Non-releasable allocs |       0    |       0    |       0    |       0    |\\n|       from large pool |       0    |       0    |       0    |       0    |\\n|       from small pool |       0    |       0    |       0    |       0    |\\n|---------------------------------------------------------------------------|\\n| Oversize allocations  |       0    |       0    |       0    |       0    |\\n|---------------------------------------------------------------------------|\\n| Oversize GPU segments |       0    |       0    |       0    |       0    |\\n|===========================================================================|\\n'"
      ]
     },
     "execution_count": 8,
     "metadata": {},
     "output_type": "execute_result"
    }
   ],
   "source": [
    "import torch\n",
    "torch.cuda.empty_cache()\n",
    "\n",
    "torch.cuda.memory_summary(device=None, abbreviated=False)"
   ]
  },
  {
   "cell_type": "markdown",
   "id": "2f5967cc",
   "metadata": {},
   "source": [
    "# Build datasets and dataloaders"
   ]
  },
  {
   "cell_type": "code",
   "execution_count": 9,
   "id": "ea897ba2",
   "metadata": {},
   "outputs": [
    {
     "name": "stdout",
     "output_type": "stream",
     "text": [
      "torch.Size([10899, 3, 150, 150])\n",
      "torch.Size([10899])\n"
     ]
    }
   ],
   "source": [
    "tensor_x = torch.Tensor(X) # transform to torch tensor\n",
    "tensor_x = torch.swapaxes(tensor_x, 2, 3)\n",
    "tensor_x = torch.swapaxes(tensor_x, 1, 2)\n",
    "print(tensor_x.size())\n",
    "tensor_y = torch.Tensor(Y).type(torch.LongTensor)\n",
    "print(tensor_y.size())\n",
    "\n",
    "dataset = TensorDataset(tensor_x,tensor_y)\n",
    "train_size = int(X.shape[0]*0.8)\n",
    "val_size = int(X.shape[0]*0.1)\n",
    "test_size = X.shape[0] - train_size - val_size\n",
    "train_ds, val_ds, test_ds = random_split(dataset, [train_size, val_size, test_size])\n",
    "\n",
    "#passing the train, val and test datasets to the dataloader\n",
    "train_dl = DataLoader(train_ds, batch_size=16, shuffle=True)\n",
    "val_dl = DataLoader(val_ds, batch_size=16, shuffle=False)\n",
    "test_dl = DataLoader(test_ds, batch_size=16, shuffle=False)"
   ]
  },
  {
   "cell_type": "markdown",
   "id": "77bd6d2b",
   "metadata": {},
   "source": [
    "# A 2-layer CNN implementation"
   ]
  },
  {
   "cell_type": "code",
   "execution_count": 10,
   "id": "f4066336",
   "metadata": {},
   "outputs": [],
   "source": [
    "# Created a CNN class:\n",
    "class CNN(nn.Module):\n",
    "    \n",
    "    # Defining the neural net architecture\n",
    "    def __init__(self, num_classes):\n",
    "        super(CNN, self).__init__()\n",
    "        \n",
    "        # Convolution layer with 3 input channels, 32 kernels of size 3 x 3\n",
    "        self.convolutional_layer_1 = nn.Conv2d(in_channels = 3, out_channels = 32, kernel_size = 3, stride = 2)\n",
    "        \n",
    "        # Max-pooling of size 2 x 2\n",
    "        self.max_pool1 = nn.MaxPool2d(kernel_size = 2, stride = 2)\n",
    "        \n",
    "        # Convolution layer with 32 input channels, 32 kernels of size  3 x 3\n",
    "        self.convolutional_layer_2 = nn.Conv2d(in_channels = 32, out_channels = 32, kernel_size = 3)\n",
    "        \n",
    "        # Max-pooling of size 2 x 2\n",
    "        self.max_pool2 = nn.MaxPool2d(kernel_size = 2, stride = 2)\n",
    "        \n",
    "        # Flatten:\n",
    "        self.flatten = nn.Flatten()\n",
    "        \n",
    "        # Linear layer with 128 neurons\n",
    "        self.feedforward_1 = nn.Linear(17*17*32,128)\n",
    "        \n",
    "        # Linear layer with number of classes output neurons\n",
    "        self.feedforward_3 = nn.Linear(128,num_classes)\n",
    "        \n",
    "    # Forward pass:\n",
    "    def forward(self, x):\n",
    "        \n",
    "        out = self.convolutional_layer_1(x)\n",
    "        \n",
    "        out = self.max_pool1(F.relu(out))\n",
    "        \n",
    "        out = self.convolutional_layer_2(out)\n",
    "        \n",
    "        out = self.max_pool2(F.relu(out))\n",
    "        \n",
    "        out = self.flatten(out)\n",
    "        \n",
    "        out = self.feedforward_1(out)\n",
    "        \n",
    "        out = self.feedforward_3(F.relu(out))\n",
    "        \n",
    "        # Adding a softmax activation function for multi-class labelling problem:\n",
    "        out = F.softmax(out)\n",
    "        \n",
    "        return out        "
   ]
  },
  {
   "cell_type": "code",
   "execution_count": 11,
   "id": "005a6b64",
   "metadata": {},
   "outputs": [],
   "source": [
    "# Train the model\n",
    "device = 'cuda' # if you dont have a gpu, set device = cpu here\n",
    "\n",
    "model = CNN(num_classes)\n",
    "\n",
    "model = model.to(device=device) #to send the model for training on either cuda or cpu"
   ]
  },
  {
   "cell_type": "markdown",
   "id": "230bccd0",
   "metadata": {},
   "source": [
    "# Training and validation"
   ]
  },
  {
   "cell_type": "code",
   "execution_count": 12,
   "id": "79260677",
   "metadata": {},
   "outputs": [
    {
     "name": "stdout",
     "output_type": "stream",
     "text": [
      "learning rate:  1e-05\n"
     ]
    },
    {
     "name": "stderr",
     "output_type": "stream",
     "text": [
      "C:\\Users\\ashwi\\AppData\\Local\\Temp/ipykernel_11196/266847560.py:47: UserWarning: Implicit dimension choice for softmax has been deprecated. Change the call to include dim=X as an argument.\n",
      "  out = F.softmax(out)\n"
     ]
    },
    {
     "name": "stdout",
     "output_type": "stream",
     "text": [
      "Loss in epoch 0 :::: 2.989631445036022\n",
      "Got 82 / 1089 with accuracy 7.53\n",
      "learning rate:  1e-05\n",
      "Loss in epoch 1 :::: 2.971808616393203\n",
      "Got 116 / 1089 with accuracy 10.65\n",
      "learning rate:  1e-05\n",
      "Loss in epoch 2 :::: 2.960866078980472\n",
      "Got 120 / 1089 with accuracy 11.02\n",
      "learning rate:  1e-05\n",
      "Loss in epoch 3 :::: 2.952965810758258\n",
      "Got 148 / 1089 with accuracy 13.59\n",
      "learning rate:  1e-05\n",
      "Loss in epoch 4 :::: 2.946133855067262\n",
      "Got 157 / 1089 with accuracy 14.42\n",
      "learning rate:  1e-05\n",
      "Loss in epoch 5 :::: 2.9399461702469294\n",
      "Got 155 / 1089 with accuracy 14.23\n",
      "learning rate:  1e-05\n",
      "Loss in epoch 6 :::: 2.9340107869664465\n",
      "Got 161 / 1089 with accuracy 14.78\n",
      "learning rate:  1e-05\n",
      "Loss in epoch 7 :::: 2.928623207774731\n",
      "Got 168 / 1089 with accuracy 15.43\n",
      "learning rate:  1e-05\n",
      "Loss in epoch 8 :::: 2.924188854934972\n",
      "Got 163 / 1089 with accuracy 14.97\n",
      "learning rate:  1e-05\n",
      "Loss in epoch 9 :::: 2.9204582638696794\n",
      "Got 169 / 1089 with accuracy 15.52\n",
      "learning rate:  1e-05\n",
      "Loss in epoch 10 :::: 2.9168267823140557\n",
      "Got 173 / 1089 with accuracy 15.89\n",
      "learning rate:  1e-05\n",
      "Loss in epoch 11 :::: 2.913802317085616\n",
      "Got 169 / 1089 with accuracy 15.52\n",
      "learning rate:  1e-05\n",
      "Loss in epoch 12 :::: 2.910735482032146\n",
      "Got 183 / 1089 with accuracy 16.80\n",
      "learning rate:  1e-05\n",
      "Loss in epoch 13 :::: 2.9083618203434374\n",
      "Got 177 / 1089 with accuracy 16.25\n",
      "learning rate:  1e-05\n",
      "Loss in epoch 14 :::: 2.9052900082474453\n",
      "Got 170 / 1089 with accuracy 15.61\n",
      "learning rate:  1e-05\n",
      "Loss in epoch 15 :::: 2.9017997212366224\n",
      "Got 181 / 1089 with accuracy 16.62\n",
      "learning rate:  1e-05\n",
      "Loss in epoch 16 :::: 2.8985314561686386\n",
      "Got 179 / 1089 with accuracy 16.44\n",
      "learning rate:  1e-05\n",
      "Loss in epoch 17 :::: 2.8957106323417174\n",
      "Got 188 / 1089 with accuracy 17.26\n",
      "learning rate:  1e-05\n",
      "Loss in epoch 18 :::: 2.893434569157592\n",
      "Got 188 / 1089 with accuracy 17.26\n",
      "learning rate:  1e-05\n",
      "Loss in epoch 19 :::: 2.891222785809718\n",
      "Got 180 / 1089 with accuracy 16.53\n",
      "learning rate:  1e-05\n",
      "Loss in epoch 20 :::: 2.8889041353803164\n",
      "Got 187 / 1089 with accuracy 17.17\n",
      "learning rate:  1e-05\n",
      "Loss in epoch 21 :::: 2.886880662463127\n",
      "Got 190 / 1089 with accuracy 17.45\n",
      "learning rate:  1e-05\n",
      "Loss in epoch 22 :::: 2.8843177204832027\n",
      "Got 192 / 1089 with accuracy 17.63\n",
      "learning rate:  1e-05\n",
      "Loss in epoch 23 :::: 2.883149231464491\n",
      "Got 200 / 1089 with accuracy 18.37\n",
      "learning rate:  1e-05\n",
      "Loss in epoch 24 :::: 2.881402377469824\n",
      "Got 199 / 1089 with accuracy 18.27\n",
      "learning rate:  1e-05\n",
      "Loss in epoch 25 :::: 2.8793136377947044\n",
      "Got 189 / 1089 with accuracy 17.36\n",
      "learning rate:  1e-05\n",
      "Loss in epoch 26 :::: 2.877805480607059\n",
      "Got 202 / 1089 with accuracy 18.55\n",
      "learning rate:  1e-05\n",
      "Loss in epoch 27 :::: 2.8757039376355094\n",
      "Got 199 / 1089 with accuracy 18.27\n",
      "learning rate:  1e-05\n",
      "Loss in epoch 28 :::: 2.8708830640950334\n",
      "Got 217 / 1089 with accuracy 19.93\n",
      "learning rate:  1e-05\n",
      "Loss in epoch 29 :::: 2.867245578765869\n",
      "Got 217 / 1089 with accuracy 19.93\n",
      "learning rate:  1e-05\n",
      "Loss in epoch 30 :::: 2.864615540548202\n",
      "Got 221 / 1089 with accuracy 20.29\n",
      "learning rate:  1e-05\n",
      "Loss in epoch 31 :::: 2.861877873184484\n",
      "Got 218 / 1089 with accuracy 20.02\n",
      "learning rate:  1e-05\n",
      "Loss in epoch 32 :::: 2.860240547810126\n",
      "Got 216 / 1089 with accuracy 19.83\n",
      "learning rate:  1e-05\n",
      "Loss in epoch 33 :::: 2.8582629234418957\n",
      "Got 221 / 1089 with accuracy 20.29\n",
      "learning rate:  1e-05\n",
      "Loss in epoch 34 :::: 2.855966393007051\n",
      "Got 222 / 1089 with accuracy 20.39\n",
      "learning rate:  1e-05\n",
      "Loss in epoch 35 :::: 2.854128100456448\n",
      "Got 217 / 1089 with accuracy 19.93\n",
      "learning rate:  1e-05\n",
      "Loss in epoch 36 :::: 2.8531471064331333\n",
      "Got 223 / 1089 with accuracy 20.48\n",
      "learning rate:  1e-05\n",
      "Loss in epoch 37 :::: 2.8509239581746795\n",
      "Got 224 / 1089 with accuracy 20.57\n",
      "learning rate:  1e-05\n",
      "Loss in epoch 38 :::: 2.849011084792811\n",
      "Got 225 / 1089 with accuracy 20.66\n",
      "learning rate:  1e-05\n",
      "Loss in epoch 39 :::: 2.8478850154701725\n",
      "Got 221 / 1089 with accuracy 20.29\n",
      "learning rate:  1e-05\n",
      "Loss in epoch 40 :::: 2.846909763178694\n",
      "Got 223 / 1089 with accuracy 20.48\n",
      "learning rate:  1e-05\n",
      "Loss in epoch 41 :::: 2.8455293944122593\n",
      "Got 222 / 1089 with accuracy 20.39\n",
      "learning rate:  1e-05\n",
      "Loss in epoch 42 :::: 2.843610280150667\n",
      "Got 220 / 1089 with accuracy 20.20\n",
      "learning rate:  1e-05\n",
      "Loss in epoch 43 :::: 2.842567956994433\n",
      "Got 226 / 1089 with accuracy 20.75\n",
      "learning rate:  1e-05\n",
      "Loss in epoch 44 :::: 2.8410924202805266\n",
      "Got 224 / 1089 with accuracy 20.57\n",
      "learning rate:  1e-05\n",
      "Loss in epoch 45 :::: 2.8394958859189936\n",
      "Got 229 / 1089 with accuracy 21.03\n",
      "learning rate:  1e-05\n",
      "Loss in epoch 46 :::: 2.8388495239642784\n",
      "Got 227 / 1089 with accuracy 20.84\n",
      "learning rate:  1e-05\n",
      "Loss in epoch 47 :::: 2.838098013291665\n",
      "Got 223 / 1089 with accuracy 20.48\n",
      "learning rate:  1e-05\n",
      "Loss in epoch 48 :::: 2.8366423309396165\n",
      "Got 232 / 1089 with accuracy 21.30\n",
      "learning rate:  1e-05\n",
      "Loss in epoch 49 :::: 2.835815253388991\n",
      "Got 228 / 1089 with accuracy 20.94\n"
     ]
    }
   ],
   "source": [
    "## Loss and optimizer\n",
    "learning_rate = 1e-5\n",
    "load_model = True\n",
    "\n",
    "# Choosing the class with max probability. \n",
    "criterion = nn.CrossEntropyLoss()\n",
    "\n",
    "# Adding weight decay of 1e-5 for l2 norm (ridge) cost optimization. This is specific to pytorch application.\n",
    "optimizer = torch.optim.Adam(model.parameters(), lr=learning_rate, weight_decay=1e-5)\n",
    "\n",
    "# Tracking losses:\n",
    "val_acc = []\n",
    "tr_loss = []\n",
    "\n",
    "for epoch in range(50): # How many epochs?\n",
    "    loss_ep = 0\n",
    "    \n",
    "    print(\"learning rate: \", learning_rate)\n",
    "    \n",
    "    for batch_idx, (data, targets) in enumerate(train_dl):\n",
    "        data = data.to(device=device)\n",
    "        targets = targets.to(device=device)\n",
    "        ## Forward Pass\n",
    "        optimizer.zero_grad()\n",
    "        scores = model(data)\n",
    "        loss = criterion(scores,targets)\n",
    "        loss.backward()\n",
    "        optimizer.step()\n",
    "        loss_ep += loss.item()\n",
    "    print(f\"Loss in epoch {epoch} :::: {loss_ep/len(train_dl)}\")\n",
    "    tr_loss.append(loss_ep/len(train_dl))\n",
    "\n",
    "    with torch.no_grad():\n",
    "        num_correct = 0\n",
    "        num_samples = 0\n",
    "        for batch_idx, (data,targets) in enumerate(val_dl):\n",
    "            data = data.to(device=device)\n",
    "            targets = targets.to(device=device)\n",
    "            ## Forward Pass\n",
    "            scores = model(data)\n",
    "            _, predictions = scores.max(1)\n",
    "            num_correct += (predictions == targets).sum()\n",
    "            num_samples += predictions.size(0)\n",
    "        print(\n",
    "            f\"Got {num_correct} / {num_samples} with accuracy {float(num_correct) / float(num_samples) * 100:.2f}\"\n",
    "        )\n",
    "        val_acc.append(float(num_correct) / float(num_samples) * 100)"
   ]
  },
  {
   "cell_type": "code",
   "execution_count": 13,
   "id": "2ad13b35",
   "metadata": {},
   "outputs": [
    {
     "data": {
      "image/png": "[encoded data removed]",
      "text/plain": [
       "<Figure size 432x288 with 1 Axes>"
      ]
     },
     "metadata": {
      "needs_background": "light"
     },
     "output_type": "display_data"
    },
    {
     "data": {
      "image/png": "[encoded data removed]",
      "text/plain": [
       "<Figure size 432x288 with 1 Axes>"
      ]
     },
     "metadata": {
      "needs_background": "light"
     },
     "output_type": "display_data"
    }
   ],
   "source": [
    "# Plots out train loss and validation accuracy\n",
    "plt.title(\"VGG Train loss\")\n",
    "plt.plot(list(range(1, len(tr_loss)+1)), tr_loss)\n",
    "\n",
    "plt.show()\n",
    "\n",
    "plt.title(\"VGG Validation accuracy\")\n",
    "plt.plot(list(range(1, len(val_acc)+1)), val_acc)\n",
    "\n",
    "plt.show()"
   ]
  },
  {
   "cell_type": "markdown",
   "id": "6fe06fe4",
   "metadata": {},
   "source": [
    "# Testing"
   ]
  },
  {
   "cell_type": "code",
   "execution_count": 14,
   "id": "6792244c",
   "metadata": {},
   "outputs": [
    {
     "name": "stderr",
     "output_type": "stream",
     "text": [
      "C:\\Users\\ashwi\\AppData\\Local\\Temp/ipykernel_11196/266847560.py:47: UserWarning: Implicit dimension choice for softmax has been deprecated. Change the call to include dim=X as an argument.\n",
      "  out = F.softmax(out)\n"
     ]
    },
    {
     "name": "stdout",
     "output_type": "stream",
     "text": [
      "Got 243 / 1091 with accuracy 22.27\n"
     ]
    }
   ],
   "source": [
    "y_pred = []\n",
    "y_test = []\n",
    "# Prints out test accuracy\n",
    "with torch.no_grad():\n",
    "    num_correct = 0\n",
    "    num_samples = 0\n",
    "    for batch_idx, (data,targets) in enumerate(test_dl):\n",
    "        data = data.to(device=device)\n",
    "        targets = targets.to(device=device)\n",
    "        ## Forward Pass\n",
    "        scores = model(data)\n",
    "        _, predictions = scores.max(1)\n",
    "        y_test.append(targets.tolist())\n",
    "        y_pred.append(predictions.tolist())\n",
    "        num_correct += (predictions == targets).sum()\n",
    "        num_samples += predictions.size(0)\n",
    "    print(\n",
    "        f\"Got {num_correct} / {num_samples} with accuracy {float(num_correct) / float(num_samples) * 100:.2f}\"\n",
    "    )"
   ]
  },
  {
   "cell_type": "code",
   "execution_count": 15,
   "id": "09567f5f",
   "metadata": {},
   "outputs": [],
   "source": [
    "y_pred = [item for sublist in y_pred for item in sublist]"
   ]
  },
  {
   "cell_type": "code",
   "execution_count": 16,
   "id": "a0732d3f",
   "metadata": {},
   "outputs": [],
   "source": [
    "y_test = [item for sublist in y_test for item in sublist]"
   ]
  },
  {
   "cell_type": "markdown",
   "id": "50e8a273",
   "metadata": {},
   "source": [
    "# Performance metrics"
   ]
  },
  {
   "cell_type": "code",
   "execution_count": 17,
   "id": "8efe0011",
   "metadata": {},
   "outputs": [
    {
     "name": "stdout",
     "output_type": "stream",
     "text": [
      "              precision    recall  f1-score   support\n",
      "\n",
      "           0       0.00      0.00      0.00        46\n",
      "           1       0.21      0.61      0.31        46\n",
      "           2       0.35      0.67      0.46        76\n",
      "           3       0.00      0.00      0.00        40\n",
      "           4       0.15      0.19      0.17        77\n",
      "           5       0.21      0.33      0.26        61\n",
      "           6       0.00      0.00      0.00        64\n",
      "           7       0.00      0.00      0.00        53\n",
      "           8       0.00      0.00      0.00        48\n",
      "           9       0.25      0.51      0.34        68\n",
      "          10       0.00      0.00      0.00        52\n",
      "          11       0.15      0.18      0.16        57\n",
      "          12       0.19      0.65      0.30        54\n",
      "          13       0.00      0.00      0.00        49\n",
      "          14       0.26      0.61      0.36        49\n",
      "          15       0.00      0.00      0.00        47\n",
      "          16       0.00      0.00      0.00        44\n",
      "          17       0.00      0.00      0.00        45\n",
      "          18       0.00      0.00      0.00        48\n",
      "          19       0.17      0.28      0.21        67\n",
      "\n",
      "    accuracy                           0.22      1091\n",
      "   macro avg       0.10      0.20      0.13      1091\n",
      "weighted avg       0.11      0.22      0.14      1091\n",
      "\n"
     ]
    },
    {
     "name": "stderr",
     "output_type": "stream",
     "text": [
      "C:\\Users\\ashwi\\project\\anaconda3\\lib\\site-packages\\sklearn\\metrics\\_classification.py:1248: UndefinedMetricWarning: Precision and F-score are ill-defined and being set to 0.0 in labels with no predicted samples. Use `zero_division` parameter to control this behavior.\n",
      "  _warn_prf(average, modifier, msg_start, len(result))\n",
      "C:\\Users\\ashwi\\project\\anaconda3\\lib\\site-packages\\sklearn\\metrics\\_classification.py:1248: UndefinedMetricWarning: Precision and F-score are ill-defined and being set to 0.0 in labels with no predicted samples. Use `zero_division` parameter to control this behavior.\n",
      "  _warn_prf(average, modifier, msg_start, len(result))\n",
      "C:\\Users\\ashwi\\project\\anaconda3\\lib\\site-packages\\sklearn\\metrics\\_classification.py:1248: UndefinedMetricWarning: Precision and F-score are ill-defined and being set to 0.0 in labels with no predicted samples. Use `zero_division` parameter to control this behavior.\n",
      "  _warn_prf(average, modifier, msg_start, len(result))\n"
     ]
    }
   ],
   "source": [
    "from sklearn import metrics\n",
    "print(metrics.classification_report(y_test, y_pred))"
   ]
  }
 ],
 "metadata": {
  "kernelspec": {
   "display_name": "Python 3 (ipykernel)",
   "language": "python",
   "name": "python3"
  },
  "language_info": {
   "codemirror_mode": {
    "name": "ipython",
    "version": 3
   },
   "file_extension": ".py",
   "mimetype": "text/x-python",
   "name": "python",
   "nbconvert_exporter": "python",
   "pygments_lexer": "ipython3",
   "version": "3.9.7"
  }
 },
 "nbformat": 4,
 "nbformat_minor": 5
}
