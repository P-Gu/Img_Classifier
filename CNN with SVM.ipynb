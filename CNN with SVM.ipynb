{
 "cells": [
  {
   "cell_type": "code",
   "execution_count": 1,
   "id": "cbd95645",
   "metadata": {},
   "outputs": [],
   "source": [
    "import pandas as pd\n",
    "import os\n",
    "from skimage.transform import resize\n",
    "from skimage.io import imread, imshow\n",
    "import numpy as np\n",
    "import matplotlib.pyplot as plt\n",
    "\n",
    "from sklearn import svm\n",
    "from sklearn.model_selection import GridSearchCV\n",
    "\n",
    "from sklearn.model_selection import train_test_split\n",
    "from sklearn.metrics import accuracy_score\n",
    "\n",
    "import xml.etree.ElementTree as ET"
   ]
  },
  {
   "cell_type": "code",
   "execution_count": 2,
   "id": "1958681e",
   "metadata": {},
   "outputs": [
    {
     "name": "stdout",
     "output_type": "stream",
     "text": [
      "Chihuahua\n",
      "Japanese_spaniel\n",
      "Maltese_dog\n",
      "Pekinese\n",
      "Shih\n",
      "Blenheim_spaniel\n",
      "papillon\n",
      "toy_terrier\n",
      "Rhodesian_ridgeback\n",
      "Afghan_hound\n",
      "basset\n",
      "beagle\n",
      "bloodhound\n",
      "bluetick\n",
      "black\n",
      "Walker_hound\n",
      "English_foxhound\n",
      "redbone\n",
      "borzoi\n",
      "Irish_wolfhound\n",
      "Italian_greyhound\n",
      "whippet\n",
      "Ibizan_hound\n",
      "Norwegian_elkhound\n",
      "otterhound\n",
      "Saluki\n",
      "Scottish_deerhound\n",
      "Weimaraner\n",
      "Staffordshire_bullterrier\n",
      "American_Staffordshire_terrier\n",
      "Bedlington_terrier\n",
      "Border_terrier\n",
      "Kerry_blue_terrier\n",
      "Irish_terrier\n",
      "Norfolk_terrier\n",
      "Norwich_terrier\n",
      "Yorkshire_terrier\n",
      "wire\n",
      "Lakeland_terrier\n",
      "Sealyham_terrier\n",
      "Airedale\n",
      "cairn\n",
      "Australian_terrier\n",
      "Dandie_Dinmont\n",
      "Boston_bull\n",
      "miniature_schnauzer\n",
      "giant_schnauzer\n",
      "standard_schnauzer\n",
      "Scotch_terrier\n",
      "Tibetan_terrier\n"
     ]
    }
   ],
   "source": [
    "#\n",
    "# Load data\n",
    "#\n",
    "\n",
    "img_dir = \"C:/Github/Img_Classifier/images/Images\"\n",
    "ant_dir = \"C:/Github/Img_Classifier/annotations/Annotation\"\n",
    "X=[] #input array\n",
    "Y=[] #output array\n",
    "\n",
    "bnd_dict = {}\n",
    "\n",
    "# Load annotations\n",
    "label_count = 0\n",
    "for sub_dir in os.listdir(ant_dir):\n",
    "    label_count += 1\n",
    "    label = sub_dir.split(\"-\")[1]\n",
    "    print(label)\n",
    "    path=os.path.join(ant_dir,sub_dir)\n",
    "    for ant in os.listdir(path):\n",
    "        if ant[0] != 'n': continue\n",
    "        tree = ET.parse(os.path.join(path,ant))\n",
    "        root = tree.getroot()\n",
    "        bndbox = root.find(\"object\").find(\"bndbox\")\n",
    "        xmin = int(bndbox.findtext(\"xmin\"))\n",
    "        ymin = int(bndbox.findtext(\"ymin\"))\n",
    "        xmax = int(bndbox.findtext(\"xmax\"))\n",
    "        ymax = int(bndbox.findtext(\"ymax\"))\n",
    "        bnd_dict[ant] = [xmin, ymin, xmax, ymax]\n",
    "    if label_count >= 50: break"
   ]
  },
  {
   "cell_type": "code",
   "execution_count": 3,
   "id": "c7d8a708",
   "metadata": {},
   "outputs": [
    {
     "name": "stdout",
     "output_type": "stream",
     "text": [
      "loaded category:Chihuahua successfully\n",
      "loaded category:Japanese_spaniel successfully\n",
      "loaded category:Maltese_dog successfully\n",
      "loaded category:Pekinese successfully\n",
      "loaded category:Shih successfully\n",
      "loaded category:Blenheim_spaniel successfully\n",
      "loaded category:papillon successfully\n",
      "loaded category:toy_terrier successfully\n",
      "loaded category:Rhodesian_ridgeback successfully\n",
      "loaded category:Afghan_hound successfully\n",
      "loaded category:basset successfully\n",
      "loaded category:beagle successfully\n",
      "loaded category:bloodhound successfully\n",
      "loaded category:bluetick successfully\n",
      "loaded category:black successfully\n",
      "loaded category:Walker_hound successfully\n",
      "loaded category:English_foxhound successfully\n",
      "loaded category:redbone successfully\n",
      "loaded category:borzoi successfully\n",
      "loaded category:Irish_wolfhound successfully\n",
      "loaded category:Italian_greyhound successfully\n",
      "loaded category:whippet successfully\n",
      "loaded category:Ibizan_hound successfully\n",
      "loaded category:Norwegian_elkhound successfully\n",
      "loaded category:otterhound successfully\n",
      "loaded category:Saluki successfully\n",
      "loaded category:Scottish_deerhound successfully\n",
      "loaded category:Weimaraner successfully\n",
      "loaded category:Staffordshire_bullterrier successfully\n",
      "loaded category:American_Staffordshire_terrier successfully\n",
      "loaded category:Bedlington_terrier successfully\n",
      "loaded category:Border_terrier successfully\n",
      "loaded category:Kerry_blue_terrier successfully\n",
      "loaded category:Irish_terrier successfully\n",
      "loaded category:Norfolk_terrier successfully\n",
      "loaded category:Norwich_terrier successfully\n",
      "loaded category:Yorkshire_terrier successfully\n",
      "loaded category:wire successfully\n",
      "loaded category:Lakeland_terrier successfully\n",
      "loaded category:Sealyham_terrier successfully\n",
      "loaded category:Airedale successfully\n",
      "loaded category:cairn successfully\n",
      "loaded category:Australian_terrier successfully\n",
      "loaded category:Dandie_Dinmont successfully\n",
      "loaded category:Boston_bull successfully\n",
      "loaded category:miniature_schnauzer successfully\n",
      "loaded category:giant_schnauzer successfully\n",
      "loaded category:standard_schnauzer successfully\n",
      "loaded category:Scotch_terrier successfully\n",
      "loaded category:Tibetan_terrier successfully\n",
      "(27042, 150, 150, 3)\n",
      "(27042,)\n"
     ]
    }
   ],
   "source": [
    "# Load images      \n",
    "label_count = 0\n",
    "for sub_dir in os.listdir(img_dir):\n",
    "    label_count += 1\n",
    "    label = sub_dir.split(\"-\")[1]\n",
    "    #print(label)\n",
    "    path=os.path.join(img_dir,sub_dir)\n",
    "    for img in os.listdir(path):\n",
    "        if img[0] != 'n': continue\n",
    "        img_array=imread(os.path.join(path,img))\n",
    "        #imshow(img_array)\n",
    "        #plt.show()\n",
    "        bnd = bnd_dict[img.split(\".\")[0]]         \n",
    "        img_bnd = img_array[bnd[1]:bnd[3],bnd[0]:bnd[2]]  # Use bndbox to crop image\n",
    "        #imshow(img_bnd)\n",
    "        #plt.show()\n",
    "        #print(img_bnd)\n",
    "        img_resized=resize(img_bnd,(150, 150, 3))#(150,150,3))\n",
    "        #print(img_resized)\n",
    "        X.append(img_resized)#.flatten()) # don't flatten it if CNN\n",
    "        Y.append(label_count-1)\n",
    "        \n",
    "        img_fliplr = np.fliplr(img_resized)\n",
    "        X.append(img_fliplr)#.flatten())\n",
    "        Y.append(label_count-1)\n",
    "        \n",
    "        img_flipud = np.flipud(img_resized)\n",
    "        X.append(img_flipud)#.flatten())\n",
    "        Y.append(label_count-1)\n",
    "        \n",
    "    print(f'loaded category:{label} successfully')\n",
    "    if label_count >= 50: break\n",
    "\n",
    "X=np.array(X)#.astype('float16')\n",
    "Y=np.array(Y)#.astype('float16')\n",
    "print(X.shape)\n",
    "print(Y.shape)"
   ]
  },
  {
   "cell_type": "code",
   "execution_count": 5,
   "id": "2b27e034",
   "metadata": {},
   "outputs": [],
   "source": [
    "# print(X)"
   ]
  },
  {
   "cell_type": "code",
   "execution_count": 4,
   "id": "90c719ed",
   "metadata": {},
   "outputs": [],
   "source": [
    "num_classes = 50"
   ]
  },
  {
   "cell_type": "code",
   "execution_count": 5,
   "id": "f4216511",
   "metadata": {},
   "outputs": [],
   "source": [
    "import torch\n",
    "import torchvision\n",
    "import numpy as np\n",
    "import matplotlib.pyplot as plt\n",
    "import torch.nn as nn\n",
    "import torch.nn.functional as F\n",
    "from torchvision.datasets import CIFAR10\n",
    "from torchvision.transforms import ToTensor\n",
    "from torchvision.utils import make_grid\n",
    "from torch.utils.data.dataloader import DataLoader\n",
    "from torch.utils.data import random_split, TensorDataset\n",
    "%matplotlib inline\n",
    "from torchvision import transforms\n",
    "from torchvision.utils import save_image\n",
    "import torch.optim as optim"
   ]
  },
  {
   "cell_type": "code",
   "execution_count": 6,
   "id": "2a47523b",
   "metadata": {},
   "outputs": [
    {
     "data": {
      "text/plain": [
       "4"
      ]
     },
     "execution_count": 6,
     "metadata": {},
     "output_type": "execute_result"
    }
   ],
   "source": [
    "import gc\n",
    "\n",
    "gc.collect()"
   ]
  },
  {
   "cell_type": "code",
   "execution_count": 7,
   "id": "139e3570",
   "metadata": {},
   "outputs": [
    {
     "data": {
      "text/plain": [
       "'|===========================================================================|\\n|                  PyTorch CUDA memory summary, device ID 0                 |\\n|---------------------------------------------------------------------------|\\n|            CUDA OOMs: 0            |        cudaMalloc retries: 0         |\\n|===========================================================================|\\n|        Metric         | Cur Usage  | Peak Usage | Tot Alloc  | Tot Freed  |\\n|---------------------------------------------------------------------------|\\n| Allocated memory      |       0 B  |       0 B  |       0 B  |       0 B  |\\n|       from large pool |       0 B  |       0 B  |       0 B  |       0 B  |\\n|       from small pool |       0 B  |       0 B  |       0 B  |       0 B  |\\n|---------------------------------------------------------------------------|\\n| Active memory         |       0 B  |       0 B  |       0 B  |       0 B  |\\n|       from large pool |       0 B  |       0 B  |       0 B  |       0 B  |\\n|       from small pool |       0 B  |       0 B  |       0 B  |       0 B  |\\n|---------------------------------------------------------------------------|\\n| GPU reserved memory   |       0 B  |       0 B  |       0 B  |       0 B  |\\n|       from large pool |       0 B  |       0 B  |       0 B  |       0 B  |\\n|       from small pool |       0 B  |       0 B  |       0 B  |       0 B  |\\n|---------------------------------------------------------------------------|\\n| Non-releasable memory |       0 B  |       0 B  |       0 B  |       0 B  |\\n|       from large pool |       0 B  |       0 B  |       0 B  |       0 B  |\\n|       from small pool |       0 B  |       0 B  |       0 B  |       0 B  |\\n|---------------------------------------------------------------------------|\\n| Allocations           |       0    |       0    |       0    |       0    |\\n|       from large pool |       0    |       0    |       0    |       0    |\\n|       from small pool |       0    |       0    |       0    |       0    |\\n|---------------------------------------------------------------------------|\\n| Active allocs         |       0    |       0    |       0    |       0    |\\n|       from large pool |       0    |       0    |       0    |       0    |\\n|       from small pool |       0    |       0    |       0    |       0    |\\n|---------------------------------------------------------------------------|\\n| GPU reserved segments |       0    |       0    |       0    |       0    |\\n|       from large pool |       0    |       0    |       0    |       0    |\\n|       from small pool |       0    |       0    |       0    |       0    |\\n|---------------------------------------------------------------------------|\\n| Non-releasable allocs |       0    |       0    |       0    |       0    |\\n|       from large pool |       0    |       0    |       0    |       0    |\\n|       from small pool |       0    |       0    |       0    |       0    |\\n|---------------------------------------------------------------------------|\\n| Oversize allocations  |       0    |       0    |       0    |       0    |\\n|---------------------------------------------------------------------------|\\n| Oversize GPU segments |       0    |       0    |       0    |       0    |\\n|===========================================================================|\\n'"
      ]
     },
     "execution_count": 7,
     "metadata": {},
     "output_type": "execute_result"
    }
   ],
   "source": [
    "import torch\n",
    "torch.cuda.empty_cache()\n",
    "\n",
    "torch.cuda.memory_summary(device=None, abbreviated=False)"
   ]
  },
  {
   "cell_type": "code",
   "execution_count": 8,
   "id": "ea897ba2",
   "metadata": {},
   "outputs": [
    {
     "name": "stdout",
     "output_type": "stream",
     "text": [
      "torch.Size([27042, 3, 150, 150])\n",
      "torch.Size([27042])\n"
     ]
    }
   ],
   "source": [
    "# \n",
    "# Data shuffle and build dataloader\n",
    "#\n",
    "tensor_x = torch.Tensor(X) # transform to torch tensor\n",
    "tensor_x = torch.swapaxes(tensor_x, 2, 3)\n",
    "tensor_x = torch.swapaxes(tensor_x, 1, 2)\n",
    "print(tensor_x.size())\n",
    "tensor_y = torch.Tensor(Y).type(torch.LongTensor)\n",
    "print(tensor_y.size())\n",
    "\n",
    "dataset = TensorDataset(tensor_x,tensor_y)\n",
    "train_size = int(X.shape[0]*0.8)\n",
    "val_size = int(X.shape[0]*0.1)\n",
    "test_size = X.shape[0] - train_size - val_size\n",
    "train_ds, val_ds, test_ds = random_split(dataset, [train_size, val_size, test_size])\n",
    "\n",
    "\n",
    "#passing the train, val and test datasets to the dataloader\n",
    "train_dl = DataLoader(train_ds, batch_size=16, shuffle=True)\n",
    "val_dl = DataLoader(val_ds, batch_size=16, shuffle=False)\n",
    "test_dl = DataLoader(test_ds, batch_size=16, shuffle=False)"
   ]
  },
  {
   "cell_type": "code",
   "execution_count": 9,
   "id": "f4066336",
   "metadata": {},
   "outputs": [],
   "source": [
    "# Created a CNN class:\n",
    "class CNN(nn.Module):\n",
    "    \n",
    "    # Defining the neural net architecture\n",
    "    def __init__(self, num_classes):\n",
    "        super(CNN, self).__init__()\n",
    "        \n",
    "        # Convolution layer with 3 input channels, 32 kernels of size 3 x 3\n",
    "        self.convolutional_layer_1 = nn.Conv2d(in_channels = 3, out_channels = 32, kernel_size = 3, stride = 2)\n",
    "        \n",
    "        # Max-pooling of size 2 x 2\n",
    "        self.max_pool1 = nn.MaxPool2d(kernel_size = 2, stride = 2)\n",
    "        \n",
    "        # Convolution layer with 32 input channels, 32 kernels of size  3 x 3\n",
    "        self.convolutional_layer_2 = nn.Conv2d(in_channels = 32, out_channels = 32, kernel_size = 3)\n",
    "        \n",
    "        # Max-pooling of size 2 x 2\n",
    "        self.max_pool2 = nn.MaxPool2d(kernel_size = 2, stride = 2)\n",
    "        \n",
    "        # Flatten:\n",
    "        self.flatten = nn.Flatten()\n",
    "        \n",
    "        # Linear layer with 128 neurons\n",
    "        self.feedforward_1 = nn.Linear(17*17*32,128)\n",
    "        \n",
    "        # Linear layer with number of classes output neurons\n",
    "        self.feedforward_3 = nn.Linear(128,num_classes)\n",
    "        \n",
    "    # Forward pass:\n",
    "    def forward(self, x):\n",
    "        \n",
    "        out = self.convolutional_layer_1(x)\n",
    "        \n",
    "        out = self.max_pool1(F.relu(out))\n",
    "        \n",
    "        out = self.convolutional_layer_2(out)\n",
    "        \n",
    "        out = self.max_pool2(F.relu(out))\n",
    "        \n",
    "        out = self.flatten(out)\n",
    "        \n",
    "        out = self.feedforward_1(out)\n",
    "        \n",
    "        out = self.feedforward_3(F.relu(out))\n",
    "        \n",
    "        # Adding a softmax activation function for multi-class labelling problem:\n",
    "        out = F.softmax(out)\n",
    "        \n",
    "        return out        "
   ]
  },
  {
   "cell_type": "code",
   "execution_count": 10,
   "id": "005a6b64",
   "metadata": {},
   "outputs": [],
   "source": [
    "# Train the model\n",
    "device = 'cuda' # if you dont have a gpu, set device = cpu here\n",
    "\n",
    "model = CNN(num_classes)\n",
    "\n",
    "model = model.to(device=device) #to send the model for training on either cuda or cpu"
   ]
  },
  {
   "cell_type": "code",
   "execution_count": 11,
   "id": "79260677",
   "metadata": {},
   "outputs": [
    {
     "name": "stdout",
     "output_type": "stream",
     "text": [
      "learning rate:  1e-05\n"
     ]
    },
    {
     "name": "stderr",
     "output_type": "stream",
     "text": [
      "C:\\Users\\ashwi\\AppData\\Local\\Temp/ipykernel_4808/1545253942.py:55: UserWarning: Implicit dimension choice for softmax has been deprecated. Change the call to include dim=X as an argument.\n",
      "  out = F.softmax(out)\n"
     ]
    },
    {
     "name": "stdout",
     "output_type": "stream",
     "text": [
      "Loss in epoch 0 :::: 3.9081789377611473\n",
      "Got 71 / 2704 with accuracy 2.63\n",
      "learning rate:  1e-05\n",
      "Loss in epoch 1 :::: 3.897641325208406\n",
      "Got 110 / 2704 with accuracy 4.07\n",
      "learning rate:  1e-05\n",
      "Loss in epoch 2 :::: 3.890476560204979\n",
      "Got 151 / 2704 with accuracy 5.58\n",
      "learning rate:  1e-05\n",
      "Loss in epoch 3 :::: 3.883327591621867\n",
      "Got 170 / 2704 with accuracy 6.29\n",
      "learning rate:  1e-05\n",
      "Loss in epoch 4 :::: 3.8790036046055625\n",
      "Got 175 / 2704 with accuracy 6.47\n",
      "learning rate:  1e-05\n",
      "Loss in epoch 5 :::: 3.8757005988978848\n",
      "Got 180 / 2704 with accuracy 6.66\n",
      "learning rate:  1e-05\n",
      "Loss in epoch 6 :::: 3.8727486619928193\n",
      "Got 190 / 2704 with accuracy 7.03\n",
      "learning rate:  1e-05\n",
      "Loss in epoch 7 :::: 3.8701270098873004\n",
      "Got 186 / 2704 with accuracy 6.88\n",
      "learning rate:  1e-05\n",
      "Loss in epoch 8 :::: 3.8684905294304146\n",
      "Got 194 / 2704 with accuracy 7.17\n",
      "learning rate:  1e-05\n",
      "Loss in epoch 9 :::: 3.866875725504388\n",
      "Got 199 / 2704 with accuracy 7.36\n"
     ]
    }
   ],
   "source": [
    "## Loss and optimizer\n",
    "learning_rate = 1e-5\n",
    "load_model = True\n",
    "\n",
    "# Choosing the class with max probability. \n",
    "criterion = nn.CrossEntropyLoss()\n",
    "\n",
    "# Adding weight decay of 1e-5 for l2 norm (ridge) cost optimization. This is specific to pytorch application.\n",
    "optimizer = torch.optim.Adam(model.parameters(), lr=learning_rate, weight_decay=1e-5)\n",
    "\n",
    "# Tracking losses:\n",
    "val_acc = []\n",
    "tr_loss = []\n",
    "\n",
    "for epoch in range(10): # How many epochs?\n",
    "    loss_ep = 0\n",
    "    \n",
    "    print(\"learning rate: \", learning_rate)\n",
    "    \n",
    "    for batch_idx, (data, targets) in enumerate(train_dl):\n",
    "        data = data.to(device=device)\n",
    "        targets = targets.to(device=device)\n",
    "        ## Forward Pass\n",
    "        optimizer.zero_grad()\n",
    "        scores = model(data)\n",
    "        loss = criterion(scores,targets)\n",
    "        loss.backward()\n",
    "        optimizer.step()\n",
    "        loss_ep += loss.item()\n",
    "    print(f\"Loss in epoch {epoch} :::: {loss_ep/len(train_dl)}\")\n",
    "    tr_loss.append(loss_ep/len(train_dl))\n",
    "\n",
    "    with torch.no_grad():\n",
    "        num_correct = 0\n",
    "        num_samples = 0\n",
    "        for batch_idx, (data,targets) in enumerate(val_dl):\n",
    "            data = data.to(device=device)\n",
    "            targets = targets.to(device=device)\n",
    "            ## Forward Pass\n",
    "            scores = model(data)\n",
    "            _, predictions = scores.max(1)\n",
    "            num_correct += (predictions == targets).sum()\n",
    "            num_samples += predictions.size(0)\n",
    "        print(\n",
    "            f\"Got {num_correct} / {num_samples} with accuracy {float(num_correct) / float(num_samples) * 100:.2f}\"\n",
    "        )\n",
    "        val_acc.append(float(num_correct) / float(num_samples) * 100)"
   ]
  },
  {
   "cell_type": "code",
   "execution_count": 12,
   "id": "6792244c",
   "metadata": {},
   "outputs": [
    {
     "data": {
      "image/png": "[encoded data removed]",
      "text/plain": [
       "<Figure size 432x288 with 1 Axes>"
      ]
     },
     "metadata": {
      "needs_background": "light"
     },
     "output_type": "display_data"
    },
    {
     "data": {
      "image/png": "[encoded data removed]",
      "text/plain": [
       "<Figure size 432x288 with 1 Axes>"
      ]
     },
     "metadata": {
      "needs_background": "light"
     },
     "output_type": "display_data"
    },
    {
     "name": "stderr",
     "output_type": "stream",
     "text": [
      "C:\\Users\\ashwi\\AppData\\Local\\Temp/ipykernel_4808/1545253942.py:55: UserWarning: Implicit dimension choice for softmax has been deprecated. Change the call to include dim=X as an argument.\n",
      "  out = F.softmax(out)\n"
     ]
    },
    {
     "name": "stdout",
     "output_type": "stream",
     "text": [
      "Got 199 / 2705 with accuracy 7.36\n"
     ]
    }
   ],
   "source": [
    "# Plots out train loss and validation accuracy\n",
    "plt.title(\"VGG Train loss\")\n",
    "plt.plot(list(range(1, len(tr_loss)+1)), tr_loss)\n",
    "\n",
    "plt.show()\n",
    "\n",
    "plt.title(\"VGG Validation accuracy\")\n",
    "plt.plot(list(range(1, len(val_acc)+1)), val_acc)\n",
    "\n",
    "plt.show()\n",
    "# Prints out test accuracy\n",
    "with torch.no_grad():\n",
    "    num_correct = 0\n",
    "    num_samples = 0\n",
    "    for batch_idx, (data,targets) in enumerate(test_dl):\n",
    "        data = data.to(device=device)\n",
    "        targets = targets.to(device=device)\n",
    "        ## Forward Pass\n",
    "        scores = model(data)\n",
    "        _, predictions = scores.max(1)\n",
    "        num_correct += (predictions == targets).sum()\n",
    "        num_samples += predictions.size(0)\n",
    "    print(\n",
    "        f\"Got {num_correct} / {num_samples} with accuracy {float(num_correct) / float(num_samples) * 100:.2f}\"\n",
    "    )"
   ]
  },
  {
   "cell_type": "code",
   "execution_count": null,
   "id": "17490ada",
   "metadata": {},
   "outputs": [],
   "source": []
  }
 ],
 "metadata": {
  "kernelspec": {
   "display_name": "Python 3 (ipykernel)",
   "language": "python",
   "name": "python3"
  },
  "language_info": {
   "codemirror_mode": {
    "name": "ipython",
    "version": 3
   },
   "file_extension": ".py",
   "mimetype": "text/x-python",
   "name": "python",
   "nbconvert_exporter": "python",
   "pygments_lexer": "ipython3",
   "version": "3.9.7"
  }
 },
 "nbformat": 4,
 "nbformat_minor": 5
}
