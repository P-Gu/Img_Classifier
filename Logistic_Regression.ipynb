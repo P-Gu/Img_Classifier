{
  "nbformat": 4,
  "nbformat_minor": 0,
  "metadata": {
    "colab": {
      "name": "Logistic Regression.ipynb",
      "provenance": [],
      "collapsed_sections": []
    },
    "kernelspec": {
      "name": "python3",
      "display_name": "Python 3"
    },
    "language_info": {
      "name": "python"
    }
  },
  "cells": [
    {
      "cell_type": "markdown",
      "source": [
        "#Setting Environment"
      ],
      "metadata": {
        "id": "5UDmL8fm_9IU"
      }
    },
    {
      "cell_type": "code",
      "execution_count": 34,
      "metadata": {
        "id": "YodllXYn9mdQ"
      },
      "outputs": [],
      "source": [
        "import pandas as pd\n",
        "import os\n",
        "from skimage.transform import resize\n",
        "from skimage.io import imread, imshow\n",
        "import numpy as np\n",
        "import matplotlib.pyplot as plt\n",
        "from sklearn import linear_model\n",
        "from sklearn.model_selection import train_test_split\n",
        "from sklearn.metrics import accuracy_score\n",
        "import seaborn as sns\n",
        "import xml.etree.ElementTree as ET"
      ]
    },
    {
      "cell_type": "code",
      "source": [
        "PATH ='/Dataset/'\n",
        "img_dir = PATH+\"images/Images\"\n",
        "ant_dir = PATH+\"annotations/Annotation\"\n",
        "\n",
        "X=[] \n",
        "Y=[] \n",
        "bnd_dict = {}"
      ],
      "metadata": {
        "id": "CuwJtI4XEEZ7"
      },
      "execution_count": 35,
      "outputs": []
    },
    {
      "cell_type": "markdown",
      "source": [
        "#Preprocessing"
      ],
      "metadata": {
        "id": "B1oRC0WjADTG"
      }
    },
    {
      "cell_type": "code",
      "source": [
        "label_count = 0\n",
        "for sub_dir in os.listdir(ant_dir):\n",
        "    label_count += 1 \n",
        "    label = sub_dir.split(\"-\")[1]   # 'n02100877-Irish_setter'\n",
        "    #print(label)\n",
        "    path=os.path.join(ant_dir,sub_dir)\n",
        "    for ant in os.listdir(path):\n",
        "        if ant[0] != 'n': continue\n",
        "        tree = ET.parse(os.path.join(path,ant))\n",
        "        root = tree.getroot()\n",
        "        bndbox = root.find(\"object\").find(\"bndbox\")\n",
        "        xmin = int(bndbox.findtext(\"xmin\"))\n",
        "        ymin = int(bndbox.findtext(\"ymin\"))\n",
        "        xmax = int(bndbox.findtext(\"xmax\"))\n",
        "        ymax = int(bndbox.findtext(\"ymax\"))\n",
        "        bnd_dict[ant] = [xmin, ymin, xmax, ymax]\n",
        "    #if label_count >= 3: break\n",
        "print(bnd_dict) #'n02085620_12101': [5, 4, 350, 252]"
      ],
      "metadata": {
        "id": "ECSmOKnh9rgN"
      },
      "execution_count": null,
      "outputs": []
    },
    {
      "cell_type": "code",
      "source": [
        "label_count = 0\n",
        "for sub_dir in os.listdir(img_dir): \n",
        "    label_count += 1\n",
        "    if label_count > 20: break\n",
        "\n",
        "    label = sub_dir.split(\"-\")[1] #'n02090379-redbone',\n",
        "    path=os.path.join(img_dir,sub_dir)\n",
        "    \n",
        "    for img in os.listdir(path):\n",
        "        #print(img) #n02099712_1866.jpg\n",
        "        if img[0] != 'n': continue\n",
        "        img_array=imread(os.path.join(path,img))\n",
        "        #imshow(img_array)\n",
        "        \n",
        "        bnd = bnd_dict[img.split(\".\")[0]]\n",
        "        img_bnd = img_array[bnd[1]:bnd[3],bnd[0]:bnd[2]]\n",
        "        \n",
        "        img_resized=resize(img_bnd,(150,150,3))\n",
        "        \n",
        "        X.append(img_resized.flatten())\n",
        "        Y.append(label_count-1)\n",
        "    print(f'loaded category:{label_count-1} : {label} successfully')\n",
        "    "
      ],
      "metadata": {
        "colab": {
          "base_uri": "https://localhost:8080/"
        },
        "id": "48QqrpQZ827D",
        "outputId": "26401466-07ac-4903-8835-4d71aeff11f6"
      },
      "execution_count": 38,
      "outputs": [
        {
          "output_type": "stream",
          "name": "stdout",
          "text": [
            "loaded category:0 : Blenheim_spaniel successfully\n",
            "loaded category:1 : papillon successfully\n",
            "loaded category:2 : toy_terrier successfully\n",
            "loaded category:3 : Pekinese successfully\n",
            "loaded category:4 : Rhodesian_ridgeback successfully\n",
            "loaded category:5 : Afghan_hound successfully\n",
            "loaded category:6 : Chihuahua successfully\n",
            "loaded category:7 : Japanese_spaniel successfully\n",
            "loaded category:8 : Maltese_dog successfully\n",
            "loaded category:9 : Shih successfully\n",
            "loaded category:10 : Walker_hound successfully\n",
            "loaded category:11 : English_foxhound successfully\n",
            "loaded category:12 : bluetick successfully\n",
            "loaded category:13 : beagle successfully\n",
            "loaded category:14 : Irish_wolfhound successfully\n",
            "loaded category:15 : redbone successfully\n",
            "loaded category:16 : bloodhound successfully\n",
            "loaded category:17 : black successfully\n",
            "loaded category:18 : borzoi successfully\n",
            "loaded category:19 : basset successfully\n"
          ]
        }
      ]
    },
    {
      "cell_type": "code",
      "source": [
        "X=np.array(X)\n",
        "Y=np.array(Y)\n",
        "print(len(X), len(Y))"
      ],
      "metadata": {
        "colab": {
          "base_uri": "https://localhost:8080/"
        },
        "id": "ub4ppjmL85vC",
        "outputId": "34c51f7a-e007-4749-f24f-e7ef8541113f"
      },
      "execution_count": 39,
      "outputs": [
        {
          "output_type": "stream",
          "name": "stdout",
          "text": [
            "3633 3633\n"
          ]
        }
      ]
    },
    {
      "cell_type": "code",
      "source": [
        "#import pickle \n",
        "\n",
        "###########save\n",
        "#with open(PATH+'/X.pkl', 'wb') as f:\n",
        "#    pickle.dump(X, f)\n",
        "        \n",
        "#with open(PATH+'/Y.pkl', 'wb') as f:\n",
        "#    pickle.dump(Y, f)\n",
        "\n",
        "###########load\n",
        "#with open(PATH+'/X.pkl', 'rb') as f:\n",
        "#    X = pickle.load(f)\n",
        "\n",
        "#with open(PATH+'/Y.pkl', 'rb') as f:\n",
        "#    Y = pickle.load(f)"
      ],
      "metadata": {
        "id": "9woWme2o_ECE"
      },
      "execution_count": 41,
      "outputs": []
    },
    {
      "cell_type": "code",
      "source": [
        "X.shape, Y.shape"
      ],
      "metadata": {
        "colab": {
          "base_uri": "https://localhost:8080/"
        },
        "id": "CRx8YypzStYe",
        "outputId": "1ad5a503-c74e-4178-efcf-df4f4def28d7"
      },
      "execution_count": 42,
      "outputs": [
        {
          "output_type": "execute_result",
          "data": {
            "text/plain": [
              "((3633, 67500), (3633,))"
            ]
          },
          "metadata": {},
          "execution_count": 42
        }
      ]
    },
    {
      "cell_type": "code",
      "source": [
        "x_train,x_test,y_train,y_test = train_test_split(X,Y,test_size=0.20,random_state=77,stratify=Y)\n",
        "print('Splitted Successfully')\n",
        "print(x_train.shape,x_test.shape,y_train.shape,y_test.shape)"
      ],
      "metadata": {
        "colab": {
          "base_uri": "https://localhost:8080/"
        },
        "id": "rR48_S9O_zTX",
        "outputId": "3aaaeebf-f2e8-41b2-beb7-32ef16415c3b"
      },
      "execution_count": 43,
      "outputs": [
        {
          "output_type": "stream",
          "name": "stdout",
          "text": [
            "Splitted Successfully\n",
            "(2906, 67500) (727, 67500) (2906,) (727,)\n"
          ]
        }
      ]
    },
    {
      "cell_type": "markdown",
      "source": [
        "#Logistic Regression - One vs Rest"
      ],
      "metadata": {
        "id": "cYtW5yeMAhfb"
      }
    },
    {
      "cell_type": "code",
      "source": [
        "#LogisticRegression(C=1.0, class_weight=None, dual=False, fit_intercept=True,intercept_scaling=1, l1_ratio=None, max_iter=100,\n",
        "#                   multi_class='ovr', n_jobs=None, penalty='l2', random_state=None, solver='liblinear', tol=0.0001, verbose=0,\n",
        "#                   warm_start=False)"
      ],
      "metadata": {
        "id": "krmlcBmJPjik"
      },
      "execution_count": null,
      "outputs": []
    },
    {
      "cell_type": "code",
      "source": [
        "lr = linear_model.LogisticRegression(multi_class='ovr', solver='liblinear', max_iter=100)\n",
        "lr.fit(x_train, y_train)\n",
        "\n",
        "#Time required to train : 50 mins"
      ],
      "metadata": {
        "colab": {
          "base_uri": "https://localhost:8080/"
        },
        "id": "bVz8TccOGDcj",
        "outputId": "6f910776-7211-445d-ebdc-47fae57fbc16"
      },
      "execution_count": 44,
      "outputs": [
        {
          "output_type": "execute_result",
          "data": {
            "text/plain": [
              "LogisticRegression(multi_class='ovr', solver='liblinear')"
            ]
          },
          "metadata": {},
          "execution_count": 44
        }
      ]
    },
    {
      "cell_type": "code",
      "source": [
        "y_pred = lr.predict(x_test)"
      ],
      "metadata": {
        "id": "miL7KQ6dQB26"
      },
      "execution_count": 45,
      "outputs": []
    },
    {
      "cell_type": "code",
      "source": [
        "from sklearn import metrics\n",
        "print(metrics.classification_report(y_test, y_pred))"
      ],
      "metadata": {
        "colab": {
          "base_uri": "https://localhost:8080/"
        },
        "id": "WHQOCFY1SXJg",
        "outputId": "74645618-4a88-480d-ee01-a2dd2df35737"
      },
      "execution_count": 46,
      "outputs": [
        {
          "output_type": "stream",
          "name": "stdout",
          "text": [
            "              precision    recall  f1-score   support\n",
            "\n",
            "           0       0.21      0.26      0.23        38\n",
            "           1       0.16      0.21      0.18        39\n",
            "           2       0.09      0.06      0.07        34\n",
            "           3       0.07      0.10      0.09        30\n",
            "           4       0.17      0.21      0.18        34\n",
            "           5       0.19      0.21      0.20        48\n",
            "           6       0.16      0.10      0.12        30\n",
            "           7       0.16      0.19      0.18        37\n",
            "           8       0.26      0.55      0.36        51\n",
            "           9       0.10      0.12      0.11        43\n",
            "          10       0.07      0.03      0.04        31\n",
            "          11       0.33      0.29      0.31        31\n",
            "          12       0.00      0.00      0.00        34\n",
            "          13       0.16      0.13      0.14        39\n",
            "          14       0.12      0.16      0.14        44\n",
            "          15       0.05      0.03      0.04        30\n",
            "          16       0.22      0.16      0.19        37\n",
            "          17       0.38      0.28      0.32        32\n",
            "          18       0.20      0.13      0.16        30\n",
            "          19       0.00      0.00      0.00        35\n",
            "\n",
            "    accuracy                           0.17       727\n",
            "   macro avg       0.16      0.16      0.15       727\n",
            "weighted avg       0.16      0.17      0.16       727\n",
            "\n"
          ]
        }
      ]
    },
    {
      "cell_type": "code",
      "source": [
        "cf_matrix = metrics.confusion_matrix(y_test,y_pred)\n",
        "ax = sns.heatmap(cf_matrix, annot=True, cmap='Blues', fmt=\"d\")\n",
        "ax.set_title('Confusion Matrix');\n",
        "ax.set_xlabel('Predicted Values')\n",
        "ax.set_ylabel('Actual Values ')\n",
        "plt.show()"
      ],
      "metadata": {
        "colab": {
          "base_uri": "https://localhost:8080/",
          "height": 294
        },
        "id": "KZFFfkGmBjOL",
        "outputId": "5b078ad2-46ea-45c5-e8a9-f1e2a6afd44f"
      },
      "execution_count": 55,
      "outputs": [
        {
          "output_type": "display_data",
          "data": {
            "text/plain": [
              "<Figure size 432x288 with 2 Axes>"
            ],
            "image/png": "[encoded data removed]"
          },
          "metadata": {
            "needs_background": "light"
          }
        }
      ]
    },
    {
      "cell_type": "code",
      "source": [
        "print(\"Accuracy : \",metrics.accuracy_score(y_test, y_pred)*100, \"%\")"
      ],
      "metadata": {
        "colab": {
          "base_uri": "https://localhost:8080/"
        },
        "id": "3gw8cl6QBgNg",
        "outputId": "0692ec4a-6ac5-4b7e-e983-e2e7f43e4647"
      },
      "execution_count": 57,
      "outputs": [
        {
          "output_type": "stream",
          "name": "stdout",
          "text": [
            "Accuracy :  17.1939477303989 %\n"
          ]
        }
      ]
    },
    {
      "cell_type": "markdown",
      "source": [
        "#Logistic Regression - Multinomial"
      ],
      "metadata": {
        "id": "U8qsI-4wA0l-"
      }
    },
    {
      "cell_type": "code",
      "source": [
        "lr_multi = linear_model.LogisticRegression(multi_class='multinomial', solver='saga',  max_iter=100)\n",
        "lr_multi.fit(x_train, y_train)\n",
        "\n",
        "#Time required to train : 90 mins"
      ],
      "metadata": {
        "colab": {
          "base_uri": "https://localhost:8080/"
        },
        "id": "4hibasybXIhq",
        "outputId": "0f25e912-5558-4264-fe9b-20fb348966d6"
      },
      "execution_count": 47,
      "outputs": [
        {
          "output_type": "stream",
          "name": "stderr",
          "text": [
            "/usr/local/lib/python3.7/dist-packages/sklearn/linear_model/_sag.py:354: ConvergenceWarning: The max_iter was reached which means the coef_ did not converge\n",
            "  ConvergenceWarning,\n"
          ]
        },
        {
          "output_type": "execute_result",
          "data": {
            "text/plain": [
              "LogisticRegression(multi_class='multinomial', solver='saga')"
            ]
          },
          "metadata": {},
          "execution_count": 47
        }
      ]
    },
    {
      "cell_type": "code",
      "source": [
        "cf_matrix = metrics.confusion_matrix(y_test,y_pred_m)\n",
        "ax = sns.heatmap(cf_matrix, annot=True, cmap='Blues', fmt=\"d\")\n",
        "ax.set_title('Confusion Matrix');\n",
        "ax.set_xlabel('Predicted Values')\n",
        "ax.set_ylabel('Actual Values ')\n",
        "plt.show()"
      ],
      "metadata": {
        "colab": {
          "base_uri": "https://localhost:8080/",
          "height": 294
        },
        "id": "x9kxe3oKBCzh",
        "outputId": "961fd117-81c4-44ef-8d89-06712029f1de"
      },
      "execution_count": 56,
      "outputs": [
        {
          "output_type": "display_data",
          "data": {
            "text/plain": [
              "<Figure size 432x288 with 2 Axes>"
            ],
            "image/png": "[encoded data removed]"
          },
          "metadata": {
            "needs_background": "light"
          }
        }
      ]
    },
    {
      "cell_type": "code",
      "source": [
        "y_pred_m = lr_multi.predict(x_test)"
      ],
      "metadata": {
        "id": "hVirujU8XnpE"
      },
      "execution_count": 48,
      "outputs": []
    },
    {
      "cell_type": "code",
      "source": [
        "print(metrics.classification_report(y_test, y_pred_m))"
      ],
      "metadata": {
        "colab": {
          "base_uri": "https://localhost:8080/"
        },
        "id": "O0jBWdiAXtep",
        "outputId": "ececcc83-dce7-4a3f-a5b4-a59d8da3e143"
      },
      "execution_count": 49,
      "outputs": [
        {
          "output_type": "stream",
          "name": "stdout",
          "text": [
            "              precision    recall  f1-score   support\n",
            "\n",
            "           0       0.18      0.21      0.19        38\n",
            "           1       0.20      0.26      0.22        39\n",
            "           2       0.10      0.09      0.09        34\n",
            "           3       0.12      0.10      0.11        30\n",
            "           4       0.28      0.26      0.27        34\n",
            "           5       0.24      0.25      0.25        48\n",
            "           6       0.18      0.13      0.15        30\n",
            "           7       0.22      0.30      0.26        37\n",
            "           8       0.31      0.57      0.40        51\n",
            "           9       0.12      0.12      0.12        43\n",
            "          10       0.10      0.03      0.05        31\n",
            "          11       0.39      0.35      0.37        31\n",
            "          12       0.20      0.09      0.12        34\n",
            "          13       0.19      0.18      0.18        39\n",
            "          14       0.19      0.20      0.20        44\n",
            "          15       0.15      0.13      0.14        30\n",
            "          16       0.18      0.19      0.19        37\n",
            "          17       0.30      0.38      0.33        32\n",
            "          18       0.26      0.17      0.20        30\n",
            "          19       0.04      0.03      0.03        35\n",
            "\n",
            "    accuracy                           0.21       727\n",
            "   macro avg       0.20      0.20      0.19       727\n",
            "weighted avg       0.20      0.21      0.20       727\n",
            "\n"
          ]
        }
      ]
    },
    {
      "cell_type": "code",
      "source": [
        "print(\"Accuracy : \",metrics.accuracy_score(y_test, y_pred_m)*100, \"%\")"
      ],
      "metadata": {
        "colab": {
          "base_uri": "https://localhost:8080/"
        },
        "id": "q9yu36pbBaH7",
        "outputId": "f5892880-ef9d-4d4e-d496-60a67e6c0485"
      },
      "execution_count": 58,
      "outputs": [
        {
          "output_type": "stream",
          "name": "stdout",
          "text": [
            "Accuracy :  21.182943603851445 %\n"
          ]
        }
      ]
    }
  ]
}